{
 "cells": [
  {
   "metadata": {
    "ExecuteTime": {
     "end_time": "2024-07-30T08:10:49.921415Z",
     "start_time": "2024-07-30T08:10:49.918866Z"
    }
   },
   "cell_type": "code",
   "source": [
    "import matplotlib.pyplot as plt\n",
    "import seaborn as sns\n",
    "import pandas as pd"
   ],
   "id": "c2ef665eb2c326ea",
   "outputs": [],
   "execution_count": 51
  },
  {
   "metadata": {},
   "cell_type": "markdown",
   "source": "Identify Top Performing Product Catagories",
   "id": "2d9d701db2afd830"
  },
  {
   "cell_type": "code",
   "id": "initial_id",
   "metadata": {
    "collapsed": true,
    "ExecuteTime": {
     "end_time": "2024-07-30T08:10:49.927700Z",
     "start_time": "2024-07-30T08:10:49.923214Z"
    }
   },
   "source": "df = pd.read_csv(\"/Users/kaiisfly/PycharmProjects/Data_Analytics_Portfolio/Python_Exploratory_Data_Analysis/Ecommerce_Sales/ecommerce_sales_analysis_Clean.csv\")",
   "outputs": [],
   "execution_count": 52
  },
  {
   "metadata": {
    "ExecuteTime": {
     "end_time": "2024-07-30T08:10:49.936313Z",
     "start_time": "2024-07-30T08:10:49.930220Z"
    }
   },
   "cell_type": "code",
   "source": "df.head()",
   "id": "8953d8941b3e3701",
   "outputs": [
    {
     "data": {
      "text/plain": [
       "   product_id product_name        category   price  review_score  \\\n",
       "0           1    Product_1        Clothing  190.40           1.7   \n",
       "1           2    Product_2  Home & Kitchen  475.60           3.2   \n",
       "2           3    Product_3            Toys  367.34           4.5   \n",
       "3           4    Product_4            Toys  301.34           3.9   \n",
       "4           5    Product_5           Books   82.23           4.2   \n",
       "\n",
       "   review_count  sales_month_1  sales_month_2  sales_month_3  sales_month_4  \\\n",
       "0           220            479            449             92            784   \n",
       "1           903             21            989            861            863   \n",
       "2           163            348            558            567            143   \n",
       "3           951            725            678             59             15   \n",
       "4           220            682            451            649            301   \n",
       "\n",
       "   sales_month_5  sales_month_6  sales_month_7  sales_month_8  sales_month_9  \\\n",
       "0            604            904            446            603            807   \n",
       "1            524            128            610            436            176   \n",
       "2            771            409            290            828            340   \n",
       "3            937            421            670            933             56   \n",
       "4            620            293            411            258            854   \n",
       "\n",
       "   sales_month_10  sales_month_11  sales_month_12  Total Year Sales  \n",
       "0             252             695             306              6421  \n",
       "1             294             772             353              6027  \n",
       "2             667             267             392              5580  \n",
       "3             157             168             203              5022  \n",
       "4             548             770             257              6094  "
      ],
      "text/html": [
       "<div>\n",
       "<style scoped>\n",
       "    .dataframe tbody tr th:only-of-type {\n",
       "        vertical-align: middle;\n",
       "    }\n",
       "\n",
       "    .dataframe tbody tr th {\n",
       "        vertical-align: top;\n",
       "    }\n",
       "\n",
       "    .dataframe thead th {\n",
       "        text-align: right;\n",
       "    }\n",
       "</style>\n",
       "<table border=\"1\" class=\"dataframe\">\n",
       "  <thead>\n",
       "    <tr style=\"text-align: right;\">\n",
       "      <th></th>\n",
       "      <th>product_id</th>\n",
       "      <th>product_name</th>\n",
       "      <th>category</th>\n",
       "      <th>price</th>\n",
       "      <th>review_score</th>\n",
       "      <th>review_count</th>\n",
       "      <th>sales_month_1</th>\n",
       "      <th>sales_month_2</th>\n",
       "      <th>sales_month_3</th>\n",
       "      <th>sales_month_4</th>\n",
       "      <th>sales_month_5</th>\n",
       "      <th>sales_month_6</th>\n",
       "      <th>sales_month_7</th>\n",
       "      <th>sales_month_8</th>\n",
       "      <th>sales_month_9</th>\n",
       "      <th>sales_month_10</th>\n",
       "      <th>sales_month_11</th>\n",
       "      <th>sales_month_12</th>\n",
       "      <th>Total Year Sales</th>\n",
       "    </tr>\n",
       "  </thead>\n",
       "  <tbody>\n",
       "    <tr>\n",
       "      <th>0</th>\n",
       "      <td>1</td>\n",
       "      <td>Product_1</td>\n",
       "      <td>Clothing</td>\n",
       "      <td>190.40</td>\n",
       "      <td>1.7</td>\n",
       "      <td>220</td>\n",
       "      <td>479</td>\n",
       "      <td>449</td>\n",
       "      <td>92</td>\n",
       "      <td>784</td>\n",
       "      <td>604</td>\n",
       "      <td>904</td>\n",
       "      <td>446</td>\n",
       "      <td>603</td>\n",
       "      <td>807</td>\n",
       "      <td>252</td>\n",
       "      <td>695</td>\n",
       "      <td>306</td>\n",
       "      <td>6421</td>\n",
       "    </tr>\n",
       "    <tr>\n",
       "      <th>1</th>\n",
       "      <td>2</td>\n",
       "      <td>Product_2</td>\n",
       "      <td>Home &amp; Kitchen</td>\n",
       "      <td>475.60</td>\n",
       "      <td>3.2</td>\n",
       "      <td>903</td>\n",
       "      <td>21</td>\n",
       "      <td>989</td>\n",
       "      <td>861</td>\n",
       "      <td>863</td>\n",
       "      <td>524</td>\n",
       "      <td>128</td>\n",
       "      <td>610</td>\n",
       "      <td>436</td>\n",
       "      <td>176</td>\n",
       "      <td>294</td>\n",
       "      <td>772</td>\n",
       "      <td>353</td>\n",
       "      <td>6027</td>\n",
       "    </tr>\n",
       "    <tr>\n",
       "      <th>2</th>\n",
       "      <td>3</td>\n",
       "      <td>Product_3</td>\n",
       "      <td>Toys</td>\n",
       "      <td>367.34</td>\n",
       "      <td>4.5</td>\n",
       "      <td>163</td>\n",
       "      <td>348</td>\n",
       "      <td>558</td>\n",
       "      <td>567</td>\n",
       "      <td>143</td>\n",
       "      <td>771</td>\n",
       "      <td>409</td>\n",
       "      <td>290</td>\n",
       "      <td>828</td>\n",
       "      <td>340</td>\n",
       "      <td>667</td>\n",
       "      <td>267</td>\n",
       "      <td>392</td>\n",
       "      <td>5580</td>\n",
       "    </tr>\n",
       "    <tr>\n",
       "      <th>3</th>\n",
       "      <td>4</td>\n",
       "      <td>Product_4</td>\n",
       "      <td>Toys</td>\n",
       "      <td>301.34</td>\n",
       "      <td>3.9</td>\n",
       "      <td>951</td>\n",
       "      <td>725</td>\n",
       "      <td>678</td>\n",
       "      <td>59</td>\n",
       "      <td>15</td>\n",
       "      <td>937</td>\n",
       "      <td>421</td>\n",
       "      <td>670</td>\n",
       "      <td>933</td>\n",
       "      <td>56</td>\n",
       "      <td>157</td>\n",
       "      <td>168</td>\n",
       "      <td>203</td>\n",
       "      <td>5022</td>\n",
       "    </tr>\n",
       "    <tr>\n",
       "      <th>4</th>\n",
       "      <td>5</td>\n",
       "      <td>Product_5</td>\n",
       "      <td>Books</td>\n",
       "      <td>82.23</td>\n",
       "      <td>4.2</td>\n",
       "      <td>220</td>\n",
       "      <td>682</td>\n",
       "      <td>451</td>\n",
       "      <td>649</td>\n",
       "      <td>301</td>\n",
       "      <td>620</td>\n",
       "      <td>293</td>\n",
       "      <td>411</td>\n",
       "      <td>258</td>\n",
       "      <td>854</td>\n",
       "      <td>548</td>\n",
       "      <td>770</td>\n",
       "      <td>257</td>\n",
       "      <td>6094</td>\n",
       "    </tr>\n",
       "  </tbody>\n",
       "</table>\n",
       "</div>"
      ]
     },
     "execution_count": 53,
     "metadata": {},
     "output_type": "execute_result"
    }
   ],
   "execution_count": 53
  },
  {
   "metadata": {},
   "cell_type": "markdown",
   "source": "Top Performing Category by Year = \"Electronics\"",
   "id": "a695f7ecb2c60dcf"
  },
  {
   "metadata": {
    "ExecuteTime": {
     "end_time": "2024-07-30T08:10:50.060893Z",
     "start_time": "2024-07-30T08:10:49.937364Z"
    }
   },
   "cell_type": "code",
   "source": [
    "max_sales_category = df.loc[df['Total Year Sales'].idxmax(), 'category']\n",
    "\n",
    "# Print the category with the highest total year sales\n",
    "print(f\"The category with the highest total year sales is: {max_sales_category}\")\n",
    "\n",
    "# Create a bar plot\n",
    "sns.barplot(data=df, x='category', y='Total Year Sales', hue='category', palette='Set1')"
   ],
   "id": "b5afb8586e091d58",
   "outputs": [
    {
     "name": "stdout",
     "output_type": "stream",
     "text": [
      "The category with the highest total year sales is: Electronics\n"
     ]
    },
    {
     "data": {
      "text/plain": [
       "<Axes: xlabel='category', ylabel='Total Year Sales'>"
      ]
     },
     "execution_count": 54,
     "metadata": {},
     "output_type": "execute_result"
    },
    {
     "data": {
      "text/plain": [
       "<Figure size 640x480 with 1 Axes>"
      ],
      "image/png": "[encoded data removed]"
     },
     "metadata": {},
     "output_type": "display_data"
    }
   ],
   "execution_count": 54
  }
 ],
 "metadata": {
  "kernelspec": {
   "display_name": "Python 3",
   "language": "python",
   "name": "python3"
  },
  "language_info": {
   "codemirror_mode": {
    "name": "ipython",
    "version": 2
   },
   "file_extension": ".py",
   "mimetype": "text/x-python",
   "name": "python",
   "nbconvert_exporter": "python",
   "pygments_lexer": "ipython2",
   "version": "2.7.6"
  }
 },
 "nbformat": 4,
 "nbformat_minor": 5
}
