{
 "cells": [
  {
   "cell_type": "code",
   "execution_count": 1,
   "id": "dd28392f-0d34-4ae0-9949-b6310b323c1e",
   "metadata": {
    "ExecuteTime": {
     "end_time": "2024-03-31T10:27:12.649989Z",
     "start_time": "2024-03-31T10:27:12.305497Z"
    }
   },
   "outputs": [],
   "source": [
    "import pandas as pd"
   ]
  },
  {
   "cell_type": "code",
   "execution_count": 2,
   "id": "e657ebba-c5c1-4b01-8e63-fbf7e638103e",
   "metadata": {
    "ExecuteTime": {
     "end_time": "2024-03-31T10:27:12.758415Z",
     "start_time": "2024-03-31T10:27:12.650996Z"
    }
   },
   "outputs": [
    {
     "data": {
      "text/plain": "                  Player Pos  Age   Tm   G  GS    MP   FG   FGA    FG%  ...  \\\n0             Doc Rivers  PG   29  ATL  79  79  32.7  5.6  12.9  0.435  ...   \n1      Dominique Wilkins  SF   31  ATL  81  81  38.0  9.5  20.2  0.470  ...   \n2          Duane Ferrell  SF   25  ATL  78   2  14.9  2.2   4.6  0.489  ...   \n3           Gary Leonard   C   23  ATL   4   0   2.3  0.0   0.0  0.000  ...   \n4            John Battle  SG   28  ATL  79   2  23.6  5.0  10.9  0.461  ...   \n...                  ...  ..  ...  ...  ..  ..   ...  ...   ...    ...  ...   \n15231       Monte Morris  PG   27  WAS  62  61  27.3  4.0   8.3  0.480  ...   \n15232    Quenton Jackson  PG   24  WAS   9   0  15.0  2.1   4.7  0.452  ...   \n15233         Taj Gibson   C   37  WAS  49   2   9.8  1.3   2.6  0.520  ...   \n15234   Vernon Carey Jr.   C   21  WAS  11   0   2.5  0.2   0.7  0.250  ...   \n15235       Xavier Cooks  PF   27  WAS  10   1  12.6  1.7   2.8  0.607  ...   \n\n       Pts Max  Share                Team   W   L   W/L%    GB   PS/G   PA/G  \\\n0          0.0   0.00       Atlanta Hawks  43  39  0.524  18.0  109.8  109.0   \n1        960.0   0.03       Atlanta Hawks  43  39  0.524  18.0  109.8  109.0   \n2          0.0   0.00       Atlanta Hawks  43  39  0.524  18.0  109.8  109.0   \n3          0.0   0.00       Atlanta Hawks  43  39  0.524  18.0  109.8  109.0   \n4          0.0   0.00       Atlanta Hawks  43  39  0.524  18.0  109.8  109.0   \n...        ...    ...                 ...  ..  ..    ...   ...    ...    ...   \n15231      0.0   0.00  Washington Wizards  35  47  0.427   9.0  113.2  114.4   \n15232      0.0   0.00  Washington Wizards  35  47  0.427   9.0  113.2  114.4   \n15233      0.0   0.00  Washington Wizards  35  47  0.427   9.0  113.2  114.4   \n15234      0.0   0.00  Washington Wizards  35  47  0.427   9.0  113.2  114.4   \n15235      0.0   0.00  Washington Wizards  35  47  0.427   9.0  113.2  114.4   \n\n        SRS  \n0      0.72  \n1      0.72  \n2      0.72  \n3      0.72  \n4      0.72  \n...     ...  \n15231 -1.06  \n15232 -1.06  \n15233 -1.06  \n15234 -1.06  \n15235 -1.06  \n\n[15236 rows x 41 columns]",
      "text/html": "<div>\n<style scoped>\n    .dataframe tbody tr th:only-of-type {\n        vertical-align: middle;\n    }\n\n    .dataframe tbody tr th {\n        vertical-align: top;\n    }\n\n    .dataframe thead th {\n        text-align: right;\n    }\n</style>\n<table border=\"1\" class=\"dataframe\">\n  <thead>\n    <tr style=\"text-align: right;\">\n      <th></th>\n      <th>Player</th>\n      <th>Pos</th>\n      <th>Age</th>\n      <th>Tm</th>\n      <th>G</th>\n      <th>GS</th>\n      <th>MP</th>\n      <th>FG</th>\n      <th>FGA</th>\n      <th>FG%</th>\n      <th>...</th>\n      <th>Pts Max</th>\n      <th>Share</th>\n      <th>Team</th>\n      <th>W</th>\n      <th>L</th>\n      <th>W/L%</th>\n      <th>GB</th>\n      <th>PS/G</th>\n      <th>PA/G</th>\n      <th>SRS</th>\n    </tr>\n  </thead>\n  <tbody>\n    <tr>\n      <th>0</th>\n      <td>Doc Rivers</td>\n      <td>PG</td>\n      <td>29</td>\n      <td>ATL</td>\n      <td>79</td>\n      <td>79</td>\n      <td>32.7</td>\n      <td>5.6</td>\n      <td>12.9</td>\n      <td>0.435</td>\n      <td>...</td>\n      <td>0.0</td>\n      <td>0.00</td>\n      <td>Atlanta Hawks</td>\n      <td>43</td>\n      <td>39</td>\n      <td>0.524</td>\n      <td>18.0</td>\n      <td>109.8</td>\n      <td>109.0</td>\n      <td>0.72</td>\n    </tr>\n    <tr>\n      <th>1</th>\n      <td>Dominique Wilkins</td>\n      <td>SF</td>\n      <td>31</td>\n      <td>ATL</td>\n      <td>81</td>\n      <td>81</td>\n      <td>38.0</td>\n      <td>9.5</td>\n      <td>20.2</td>\n      <td>0.470</td>\n      <td>...</td>\n      <td>960.0</td>\n      <td>0.03</td>\n      <td>Atlanta Hawks</td>\n      <td>43</td>\n      <td>39</td>\n      <td>0.524</td>\n      <td>18.0</td>\n      <td>109.8</td>\n      <td>109.0</td>\n      <td>0.72</td>\n    </tr>\n    <tr>\n      <th>2</th>\n      <td>Duane Ferrell</td>\n      <td>SF</td>\n      <td>25</td>\n      <td>ATL</td>\n      <td>78</td>\n      <td>2</td>\n      <td>14.9</td>\n      <td>2.2</td>\n      <td>4.6</td>\n      <td>0.489</td>\n      <td>...</td>\n      <td>0.0</td>\n      <td>0.00</td>\n      <td>Atlanta Hawks</td>\n      <td>43</td>\n      <td>39</td>\n      <td>0.524</td>\n      <td>18.0</td>\n      <td>109.8</td>\n      <td>109.0</td>\n      <td>0.72</td>\n    </tr>\n    <tr>\n      <th>3</th>\n      <td>Gary Leonard</td>\n      <td>C</td>\n      <td>23</td>\n      <td>ATL</td>\n      <td>4</td>\n      <td>0</td>\n      <td>2.3</td>\n      <td>0.0</td>\n      <td>0.0</td>\n      <td>0.000</td>\n      <td>...</td>\n      <td>0.0</td>\n      <td>0.00</td>\n      <td>Atlanta Hawks</td>\n      <td>43</td>\n      <td>39</td>\n      <td>0.524</td>\n      <td>18.0</td>\n      <td>109.8</td>\n      <td>109.0</td>\n      <td>0.72</td>\n    </tr>\n    <tr>\n      <th>4</th>\n      <td>John Battle</td>\n      <td>SG</td>\n      <td>28</td>\n      <td>ATL</td>\n      <td>79</td>\n      <td>2</td>\n      <td>23.6</td>\n      <td>5.0</td>\n      <td>10.9</td>\n      <td>0.461</td>\n      <td>...</td>\n      <td>0.0</td>\n      <td>0.00</td>\n      <td>Atlanta Hawks</td>\n      <td>43</td>\n      <td>39</td>\n      <td>0.524</td>\n      <td>18.0</td>\n      <td>109.8</td>\n      <td>109.0</td>\n      <td>0.72</td>\n    </tr>\n    <tr>\n      <th>...</th>\n      <td>...</td>\n      <td>...</td>\n      <td>...</td>\n      <td>...</td>\n      <td>...</td>\n      <td>...</td>\n      <td>...</td>\n      <td>...</td>\n      <td>...</td>\n      <td>...</td>\n      <td>...</td>\n      <td>...</td>\n      <td>...</td>\n      <td>...</td>\n      <td>...</td>\n      <td>...</td>\n      <td>...</td>\n      <td>...</td>\n      <td>...</td>\n      <td>...</td>\n      <td>...</td>\n    </tr>\n    <tr>\n      <th>15231</th>\n      <td>Monte Morris</td>\n      <td>PG</td>\n      <td>27</td>\n      <td>WAS</td>\n      <td>62</td>\n      <td>61</td>\n      <td>27.3</td>\n      <td>4.0</td>\n      <td>8.3</td>\n      <td>0.480</td>\n      <td>...</td>\n      <td>0.0</td>\n      <td>0.00</td>\n      <td>Washington Wizards</td>\n      <td>35</td>\n      <td>47</td>\n      <td>0.427</td>\n      <td>9.0</td>\n      <td>113.2</td>\n      <td>114.4</td>\n      <td>-1.06</td>\n    </tr>\n    <tr>\n      <th>15232</th>\n      <td>Quenton Jackson</td>\n      <td>PG</td>\n      <td>24</td>\n      <td>WAS</td>\n      <td>9</td>\n      <td>0</td>\n      <td>15.0</td>\n      <td>2.1</td>\n      <td>4.7</td>\n      <td>0.452</td>\n      <td>...</td>\n      <td>0.0</td>\n      <td>0.00</td>\n      <td>Washington Wizards</td>\n      <td>35</td>\n      <td>47</td>\n      <td>0.427</td>\n      <td>9.0</td>\n      <td>113.2</td>\n      <td>114.4</td>\n      <td>-1.06</td>\n    </tr>\n    <tr>\n      <th>15233</th>\n      <td>Taj Gibson</td>\n      <td>C</td>\n      <td>37</td>\n      <td>WAS</td>\n      <td>49</td>\n      <td>2</td>\n      <td>9.8</td>\n      <td>1.3</td>\n      <td>2.6</td>\n      <td>0.520</td>\n      <td>...</td>\n      <td>0.0</td>\n      <td>0.00</td>\n      <td>Washington Wizards</td>\n      <td>35</td>\n      <td>47</td>\n      <td>0.427</td>\n      <td>9.0</td>\n      <td>113.2</td>\n      <td>114.4</td>\n      <td>-1.06</td>\n    </tr>\n    <tr>\n      <th>15234</th>\n      <td>Vernon Carey Jr.</td>\n      <td>C</td>\n      <td>21</td>\n      <td>WAS</td>\n      <td>11</td>\n      <td>0</td>\n      <td>2.5</td>\n      <td>0.2</td>\n      <td>0.7</td>\n      <td>0.250</td>\n      <td>...</td>\n      <td>0.0</td>\n      <td>0.00</td>\n      <td>Washington Wizards</td>\n      <td>35</td>\n      <td>47</td>\n      <td>0.427</td>\n      <td>9.0</td>\n      <td>113.2</td>\n      <td>114.4</td>\n      <td>-1.06</td>\n    </tr>\n    <tr>\n      <th>15235</th>\n      <td>Xavier Cooks</td>\n      <td>PF</td>\n      <td>27</td>\n      <td>WAS</td>\n      <td>10</td>\n      <td>1</td>\n      <td>12.6</td>\n      <td>1.7</td>\n      <td>2.8</td>\n      <td>0.607</td>\n      <td>...</td>\n      <td>0.0</td>\n      <td>0.00</td>\n      <td>Washington Wizards</td>\n      <td>35</td>\n      <td>47</td>\n      <td>0.427</td>\n      <td>9.0</td>\n      <td>113.2</td>\n      <td>114.4</td>\n      <td>-1.06</td>\n    </tr>\n  </tbody>\n</table>\n<p>15236 rows × 41 columns</p>\n</div>"
     },
     "execution_count": 2,
     "metadata": {},
     "output_type": "execute_result"
    }
   ],
   "source": [
    "# Load Dataset\n",
    "stats = pd.read_csv(\"player_mvp_stats.csv\", index_col=0)\n",
    "stats"
   ]
  },
  {
   "cell_type": "code",
   "execution_count": 3,
   "id": "e1d6f955-b99f-4b1e-864b-68d48f124a3a",
   "metadata": {
    "ExecuteTime": {
     "end_time": "2024-03-31T10:27:12.768344Z",
     "start_time": "2024-03-31T10:27:12.759421Z"
    }
   },
   "outputs": [
    {
     "data": {
      "text/plain": "Player     0\nPos        0\nAge        0\nTm         0\nG          0\nGS         0\nMP         0\nFG         0\nFGA        0\nFG%        0\n3P         0\n3PA        0\n3P%        0\n2P         0\n2PA        0\n2P%        0\neFG%       0\nFT         0\nFTA        0\nFT%        0\nORB        0\nDRB        0\nTRB        0\nAST        0\nSTL        0\nBLK        0\nTOV        0\nPF         0\nPTS        0\nYear       0\nPts Won    0\nPts Max    0\nShare      0\nTeam       0\nW          0\nL          0\nW/L%       0\nGB         0\nPS/G       0\nPA/G       0\nSRS        0\ndtype: int64"
     },
     "execution_count": 3,
     "metadata": {},
     "output_type": "execute_result"
    }
   ],
   "source": [
    "# I cleaned this during scraping, so I dont need to ammend anything here\n",
    "pd.isnull(stats).sum()"
   ]
  },
  {
   "cell_type": "code",
   "execution_count": 4,
   "id": "c113bef8-7e37-43b4-aa9b-2a36416bebec",
   "metadata": {
    "ExecuteTime": {
     "end_time": "2024-03-31T10:27:12.778274Z",
     "start_time": "2024-03-31T10:27:12.769350Z"
    }
   },
   "outputs": [
    {
     "data": {
      "text/plain": "Index(['Player', 'Pos', 'Age', 'Tm', 'G', 'GS', 'MP', 'FG', 'FGA', 'FG%', '3P',\n       '3PA', '3P%', '2P', '2PA', '2P%', 'eFG%', 'FT', 'FTA', 'FT%', 'ORB',\n       'DRB', 'TRB', 'AST', 'STL', 'BLK', 'TOV', 'PF', 'PTS', 'Year',\n       'Pts Won', 'Pts Max', 'Share', 'Team', 'W', 'L', 'W/L%', 'GB', 'PS/G',\n       'PA/G', 'SRS'],\n      dtype='object')"
     },
     "execution_count": 4,
     "metadata": {},
     "output_type": "execute_result"
    }
   ],
   "source": [
    "# Training the Machine Model\n",
    "stats.columns"
   ]
  },
  {
   "cell_type": "code",
   "execution_count": 5,
   "id": "a57b0f88-b7d2-40f7-8298-d81ec48e2944",
   "metadata": {
    "ExecuteTime": {
     "end_time": "2024-03-31T10:27:12.786022Z",
     "start_time": "2024-03-31T10:27:12.780280Z"
    }
   },
   "outputs": [],
   "source": [
    "# I will only use columns with numerical values that are condusive to being an MVP\n",
    "# Remove certain statistics to prevent overfitting (Pts Won', 'Pts Max', as it correlates with share)\n",
    "predictors = [\"Age\", \"G\", \"GS\", \"MP\", \"FG\", \"FGA\", 'FG%', '3P', '3PA', '3P%', '2P', '2PA', '2P%', 'eFG%', 'FT', 'FTA', 'FT%', 'ORB', 'DRB', 'TRB', 'AST', 'STL', 'BLK', 'TOV', 'PF', 'PTS', 'W', 'L', 'W/L%',\n",
    "       'GB', 'PS/G', 'PA/G', 'SRS']\n"
   ]
  },
  {
   "cell_type": "code",
   "execution_count": 6,
   "id": "f549fafc-087e-4994-a1e7-b27d880d8663",
   "metadata": {
    "ExecuteTime": {
     "end_time": "2024-03-31T10:27:12.796497Z",
     "start_time": "2024-03-31T10:27:12.787027Z"
    }
   },
   "outputs": [],
   "source": [
    "# Set training and testing df\n",
    "train = stats[stats[\"Year\"] < 2023]\n",
    "test = stats[stats[\"Year\"] == 2023]"
   ]
  },
  {
   "cell_type": "code",
   "execution_count": 7,
   "id": "cb27600a-674b-498b-b791-d59642ed5408",
   "metadata": {
    "ExecuteTime": {
     "end_time": "2024-03-31T10:27:14.126552Z",
     "start_time": "2024-03-31T10:27:12.797503Z"
    }
   },
   "outputs": [],
   "source": [
    "# Form of linear regression designed to prevent overfitting\n",
    "from sklearn.linear_model import Ridge\n",
    "reg = Ridge(alpha=.1)"
   ]
  },
  {
   "cell_type": "code",
   "execution_count": 8,
   "id": "33b4149a-d40d-4b9f-b3b2-2291d3bf4bea",
   "metadata": {
    "ExecuteTime": {
     "end_time": "2024-03-31T10:27:14.150676Z",
     "start_time": "2024-03-31T10:27:14.127558Z"
    }
   },
   "outputs": [
    {
     "data": {
      "text/plain": "Ridge(alpha=0.1)",
      "text/html": "<style>#sk-container-id-1 {\n  /* Definition of color scheme common for light and dark mode */\n  --sklearn-color-text: black;\n  --sklearn-color-line: gray;\n  /* Definition of color scheme for unfitted estimators */\n  --sklearn-color-unfitted-level-0: #fff5e6;\n  --sklearn-color-unfitted-level-1: #f6e4d2;\n  --sklearn-color-unfitted-level-2: #ffe0b3;\n  --sklearn-color-unfitted-level-3: chocolate;\n  /* Definition of color scheme for fitted estimators */\n  --sklearn-color-fitted-level-0: #f0f8ff;\n  --sklearn-color-fitted-level-1: #d4ebff;\n  --sklearn-color-fitted-level-2: #b3dbfd;\n  --sklearn-color-fitted-level-3: cornflowerblue;\n\n  /* Specific color for light theme */\n  --sklearn-color-text-on-default-background: var(--sg-text-color, var(--theme-code-foreground, var(--jp-content-font-color1, black)));\n  --sklearn-color-background: var(--sg-background-color, var(--theme-background, var(--jp-layout-color0, white)));\n  --sklearn-color-border-box: var(--sg-text-color, var(--theme-code-foreground, var(--jp-content-font-color1, black)));\n  --sklearn-color-icon: #696969;\n\n  @media (prefers-color-scheme: dark) {\n    /* Redefinition of color scheme for dark theme */\n    --sklearn-color-text-on-default-background: var(--sg-text-color, var(--theme-code-foreground, var(--jp-content-font-color1, white)));\n    --sklearn-color-background: var(--sg-background-color, var(--theme-background, var(--jp-layout-color0, #111)));\n    --sklearn-color-border-box: var(--sg-text-color, var(--theme-code-foreground, var(--jp-content-font-color1, white)));\n    --sklearn-color-icon: #878787;\n  }\n}\n\n#sk-container-id-1 {\n  color: var(--sklearn-color-text);\n}\n\n#sk-container-id-1 pre {\n  padding: 0;\n}\n\n#sk-container-id-1 input.sk-hidden--visually {\n  border: 0;\n  clip: rect(1px 1px 1px 1px);\n  clip: rect(1px, 1px, 1px, 1px);\n  height: 1px;\n  margin: -1px;\n  overflow: hidden;\n  padding: 0;\n  position: absolute;\n  width: 1px;\n}\n\n#sk-container-id-1 div.sk-dashed-wrapped {\n  border: 1px dashed var(--sklearn-color-line);\n  margin: 0 0.4em 0.5em 0.4em;\n  box-sizing: border-box;\n  padding-bottom: 0.4em;\n  background-color: var(--sklearn-color-background);\n}\n\n#sk-container-id-1 div.sk-container {\n  /* jupyter's `normalize.less` sets `[hidden] { display: none; }`\n     but bootstrap.min.css set `[hidden] { display: none !important; }`\n     so we also need the `!important` here to be able to override the\n     default hidden behavior on the sphinx rendered scikit-learn.org.\n     See: https://github.com/scikit-learn/scikit-learn/issues/21755 */\n  display: inline-block !important;\n  position: relative;\n}\n\n#sk-container-id-1 div.sk-text-repr-fallback {\n  display: none;\n}\n\ndiv.sk-parallel-item,\ndiv.sk-serial,\ndiv.sk-item {\n  /* draw centered vertical line to link estimators */\n  background-image: linear-gradient(var(--sklearn-color-text-on-default-background), var(--sklearn-color-text-on-default-background));\n  background-size: 2px 100%;\n  background-repeat: no-repeat;\n  background-position: center center;\n}\n\n/* Parallel-specific style estimator block */\n\n#sk-container-id-1 div.sk-parallel-item::after {\n  content: \"\";\n  width: 100%;\n  border-bottom: 2px solid var(--sklearn-color-text-on-default-background);\n  flex-grow: 1;\n}\n\n#sk-container-id-1 div.sk-parallel {\n  display: flex;\n  align-items: stretch;\n  justify-content: center;\n  background-color: var(--sklearn-color-background);\n  position: relative;\n}\n\n#sk-container-id-1 div.sk-parallel-item {\n  display: flex;\n  flex-direction: column;\n}\n\n#sk-container-id-1 div.sk-parallel-item:first-child::after {\n  align-self: flex-end;\n  width: 50%;\n}\n\n#sk-container-id-1 div.sk-parallel-item:last-child::after {\n  align-self: flex-start;\n  width: 50%;\n}\n\n#sk-container-id-1 div.sk-parallel-item:only-child::after {\n  width: 0;\n}\n\n/* Serial-specific style estimator block */\n\n#sk-container-id-1 div.sk-serial {\n  display: flex;\n  flex-direction: column;\n  align-items: center;\n  background-color: var(--sklearn-color-background);\n  padding-right: 1em;\n  padding-left: 1em;\n}\n\n\n/* Toggleable style: style used for estimator/Pipeline/ColumnTransformer box that is\nclickable and can be expanded/collapsed.\n- Pipeline and ColumnTransformer use this feature and define the default style\n- Estimators will overwrite some part of the style using the `sk-estimator` class\n*/\n\n/* Pipeline and ColumnTransformer style (default) */\n\n#sk-container-id-1 div.sk-toggleable {\n  /* Default theme specific background. It is overwritten whether we have a\n  specific estimator or a Pipeline/ColumnTransformer */\n  background-color: var(--sklearn-color-background);\n}\n\n/* Toggleable label */\n#sk-container-id-1 label.sk-toggleable__label {\n  cursor: pointer;\n  display: block;\n  width: 100%;\n  margin-bottom: 0;\n  padding: 0.5em;\n  box-sizing: border-box;\n  text-align: center;\n}\n\n#sk-container-id-1 label.sk-toggleable__label-arrow:before {\n  /* Arrow on the left of the label */\n  content: \"▸\";\n  float: left;\n  margin-right: 0.25em;\n  color: var(--sklearn-color-icon);\n}\n\n#sk-container-id-1 label.sk-toggleable__label-arrow:hover:before {\n  color: var(--sklearn-color-text);\n}\n\n/* Toggleable content - dropdown */\n\n#sk-container-id-1 div.sk-toggleable__content {\n  max-height: 0;\n  max-width: 0;\n  overflow: hidden;\n  text-align: left;\n  /* unfitted */\n  background-color: var(--sklearn-color-unfitted-level-0);\n}\n\n#sk-container-id-1 div.sk-toggleable__content.fitted {\n  /* fitted */\n  background-color: var(--sklearn-color-fitted-level-0);\n}\n\n#sk-container-id-1 div.sk-toggleable__content pre {\n  margin: 0.2em;\n  border-radius: 0.25em;\n  color: var(--sklearn-color-text);\n  /* unfitted */\n  background-color: var(--sklearn-color-unfitted-level-0);\n}\n\n#sk-container-id-1 div.sk-toggleable__content.fitted pre {\n  /* unfitted */\n  background-color: var(--sklearn-color-fitted-level-0);\n}\n\n#sk-container-id-1 input.sk-toggleable__control:checked~div.sk-toggleable__content {\n  /* Expand drop-down */\n  max-height: 200px;\n  max-width: 100%;\n  overflow: auto;\n}\n\n#sk-container-id-1 input.sk-toggleable__control:checked~label.sk-toggleable__label-arrow:before {\n  content: \"▾\";\n}\n\n/* Pipeline/ColumnTransformer-specific style */\n\n#sk-container-id-1 div.sk-label input.sk-toggleable__control:checked~label.sk-toggleable__label {\n  color: var(--sklearn-color-text);\n  background-color: var(--sklearn-color-unfitted-level-2);\n}\n\n#sk-container-id-1 div.sk-label.fitted input.sk-toggleable__control:checked~label.sk-toggleable__label {\n  background-color: var(--sklearn-color-fitted-level-2);\n}\n\n/* Estimator-specific style */\n\n/* Colorize estimator box */\n#sk-container-id-1 div.sk-estimator input.sk-toggleable__control:checked~label.sk-toggleable__label {\n  /* unfitted */\n  background-color: var(--sklearn-color-unfitted-level-2);\n}\n\n#sk-container-id-1 div.sk-estimator.fitted input.sk-toggleable__control:checked~label.sk-toggleable__label {\n  /* fitted */\n  background-color: var(--sklearn-color-fitted-level-2);\n}\n\n#sk-container-id-1 div.sk-label label.sk-toggleable__label,\n#sk-container-id-1 div.sk-label label {\n  /* The background is the default theme color */\n  color: var(--sklearn-color-text-on-default-background);\n}\n\n/* On hover, darken the color of the background */\n#sk-container-id-1 div.sk-label:hover label.sk-toggleable__label {\n  color: var(--sklearn-color-text);\n  background-color: var(--sklearn-color-unfitted-level-2);\n}\n\n/* Label box, darken color on hover, fitted */\n#sk-container-id-1 div.sk-label.fitted:hover label.sk-toggleable__label.fitted {\n  color: var(--sklearn-color-text);\n  background-color: var(--sklearn-color-fitted-level-2);\n}\n\n/* Estimator label */\n\n#sk-container-id-1 div.sk-label label {\n  font-family: monospace;\n  font-weight: bold;\n  display: inline-block;\n  line-height: 1.2em;\n}\n\n#sk-container-id-1 div.sk-label-container {\n  text-align: center;\n}\n\n/* Estimator-specific */\n#sk-container-id-1 div.sk-estimator {\n  font-family: monospace;\n  border: 1px dotted var(--sklearn-color-border-box);\n  border-radius: 0.25em;\n  box-sizing: border-box;\n  margin-bottom: 0.5em;\n  /* unfitted */\n  background-color: var(--sklearn-color-unfitted-level-0);\n}\n\n#sk-container-id-1 div.sk-estimator.fitted {\n  /* fitted */\n  background-color: var(--sklearn-color-fitted-level-0);\n}\n\n/* on hover */\n#sk-container-id-1 div.sk-estimator:hover {\n  /* unfitted */\n  background-color: var(--sklearn-color-unfitted-level-2);\n}\n\n#sk-container-id-1 div.sk-estimator.fitted:hover {\n  /* fitted */\n  background-color: var(--sklearn-color-fitted-level-2);\n}\n\n/* Specification for estimator info (e.g. \"i\" and \"?\") */\n\n/* Common style for \"i\" and \"?\" */\n\n.sk-estimator-doc-link,\na:link.sk-estimator-doc-link,\na:visited.sk-estimator-doc-link {\n  float: right;\n  font-size: smaller;\n  line-height: 1em;\n  font-family: monospace;\n  background-color: var(--sklearn-color-background);\n  border-radius: 1em;\n  height: 1em;\n  width: 1em;\n  text-decoration: none !important;\n  margin-left: 1ex;\n  /* unfitted */\n  border: var(--sklearn-color-unfitted-level-1) 1pt solid;\n  color: var(--sklearn-color-unfitted-level-1);\n}\n\n.sk-estimator-doc-link.fitted,\na:link.sk-estimator-doc-link.fitted,\na:visited.sk-estimator-doc-link.fitted {\n  /* fitted */\n  border: var(--sklearn-color-fitted-level-1) 1pt solid;\n  color: var(--sklearn-color-fitted-level-1);\n}\n\n/* On hover */\ndiv.sk-estimator:hover .sk-estimator-doc-link:hover,\n.sk-estimator-doc-link:hover,\ndiv.sk-label-container:hover .sk-estimator-doc-link:hover,\n.sk-estimator-doc-link:hover {\n  /* unfitted */\n  background-color: var(--sklearn-color-unfitted-level-3);\n  color: var(--sklearn-color-background);\n  text-decoration: none;\n}\n\ndiv.sk-estimator.fitted:hover .sk-estimator-doc-link.fitted:hover,\n.sk-estimator-doc-link.fitted:hover,\ndiv.sk-label-container:hover .sk-estimator-doc-link.fitted:hover,\n.sk-estimator-doc-link.fitted:hover {\n  /* fitted */\n  background-color: var(--sklearn-color-fitted-level-3);\n  color: var(--sklearn-color-background);\n  text-decoration: none;\n}\n\n/* Span, style for the box shown on hovering the info icon */\n.sk-estimator-doc-link span {\n  display: none;\n  z-index: 9999;\n  position: relative;\n  font-weight: normal;\n  right: .2ex;\n  padding: .5ex;\n  margin: .5ex;\n  width: min-content;\n  min-width: 20ex;\n  max-width: 50ex;\n  color: var(--sklearn-color-text);\n  box-shadow: 2pt 2pt 4pt #999;\n  /* unfitted */\n  background: var(--sklearn-color-unfitted-level-0);\n  border: .5pt solid var(--sklearn-color-unfitted-level-3);\n}\n\n.sk-estimator-doc-link.fitted span {\n  /* fitted */\n  background: var(--sklearn-color-fitted-level-0);\n  border: var(--sklearn-color-fitted-level-3);\n}\n\n.sk-estimator-doc-link:hover span {\n  display: block;\n}\n\n/* \"?\"-specific style due to the `<a>` HTML tag */\n\n#sk-container-id-1 a.estimator_doc_link {\n  float: right;\n  font-size: 1rem;\n  line-height: 1em;\n  font-family: monospace;\n  background-color: var(--sklearn-color-background);\n  border-radius: 1rem;\n  height: 1rem;\n  width: 1rem;\n  text-decoration: none;\n  /* unfitted */\n  color: var(--sklearn-color-unfitted-level-1);\n  border: var(--sklearn-color-unfitted-level-1) 1pt solid;\n}\n\n#sk-container-id-1 a.estimator_doc_link.fitted {\n  /* fitted */\n  border: var(--sklearn-color-fitted-level-1) 1pt solid;\n  color: var(--sklearn-color-fitted-level-1);\n}\n\n/* On hover */\n#sk-container-id-1 a.estimator_doc_link:hover {\n  /* unfitted */\n  background-color: var(--sklearn-color-unfitted-level-3);\n  color: var(--sklearn-color-background);\n  text-decoration: none;\n}\n\n#sk-container-id-1 a.estimator_doc_link.fitted:hover {\n  /* fitted */\n  background-color: var(--sklearn-color-fitted-level-3);\n}\n</style><div id=\"sk-container-id-1\" class=\"sk-top-container\"><div class=\"sk-text-repr-fallback\"><pre>Ridge(alpha=0.1)</pre><b>In a Jupyter environment, please rerun this cell to show the HTML representation or trust the notebook. <br />On GitHub, the HTML representation is unable to render, please try loading this page with nbviewer.org.</b></div><div class=\"sk-container\" hidden><div class=\"sk-item\"><div class=\"sk-estimator fitted sk-toggleable\"><input class=\"sk-toggleable__control sk-hidden--visually\" id=\"sk-estimator-id-1\" type=\"checkbox\" checked><label for=\"sk-estimator-id-1\" class=\"sk-toggleable__label fitted sk-toggleable__label-arrow fitted\">&nbsp;&nbsp;Ridge<a class=\"sk-estimator-doc-link fitted\" rel=\"noreferrer\" target=\"_blank\" href=\"https://scikit-learn.org/1.4/modules/generated/sklearn.linear_model.Ridge.html\">?<span>Documentation for Ridge</span></a><span class=\"sk-estimator-doc-link fitted\">i<span>Fitted</span></span></label><div class=\"sk-toggleable__content fitted\"><pre>Ridge(alpha=0.1)</pre></div> </div></div></div></div>"
     },
     "execution_count": 8,
     "metadata": {},
     "output_type": "execute_result"
    }
   ],
   "source": [
    "reg.fit(train[predictors], train[\"Share\"])"
   ]
  },
  {
   "cell_type": "code",
   "execution_count": 9,
   "id": "82a05220-894d-4151-ba1a-4ab7e2f4f060",
   "metadata": {
    "ExecuteTime": {
     "end_time": "2024-03-31T10:27:14.155686Z",
     "start_time": "2024-03-31T10:27:14.151682Z"
    }
   },
   "outputs": [],
   "source": [
    "predictions = reg.predict(test[predictors])"
   ]
  },
  {
   "cell_type": "code",
   "execution_count": 10,
   "id": "6e4e75fe-4fd4-4d03-a961-be6e4f059a7a",
   "metadata": {
    "ExecuteTime": {
     "end_time": "2024-03-31T10:27:14.165700Z",
     "start_time": "2024-03-31T10:27:14.156693Z"
    }
   },
   "outputs": [],
   "source": [
    "# Displays Numpy Array, so we have to convert into a pd df\n",
    "predictions = pd.DataFrame(predictions, columns=[\"predictions\"], index=test.index)"
   ]
  },
  {
   "cell_type": "code",
   "execution_count": 11,
   "id": "9d42bff0-b02b-4542-a11c-3ebd6ad9618f",
   "metadata": {
    "ExecuteTime": {
     "end_time": "2024-03-31T10:27:14.176281Z",
     "start_time": "2024-03-31T10:27:14.166705Z"
    }
   },
   "outputs": [
    {
     "data": {
      "text/plain": "       predictions\n506      -0.018614\n507      -0.023026\n508      -0.005941\n509      -0.010201\n510       0.027308\n...            ...\n15231     0.002135\n15232    -0.003488\n15233    -0.013604\n15234    -0.004369\n15235    -0.020535\n\n[539 rows x 1 columns]",
      "text/html": "<div>\n<style scoped>\n    .dataframe tbody tr th:only-of-type {\n        vertical-align: middle;\n    }\n\n    .dataframe tbody tr th {\n        vertical-align: top;\n    }\n\n    .dataframe thead th {\n        text-align: right;\n    }\n</style>\n<table border=\"1\" class=\"dataframe\">\n  <thead>\n    <tr style=\"text-align: right;\">\n      <th></th>\n      <th>predictions</th>\n    </tr>\n  </thead>\n  <tbody>\n    <tr>\n      <th>506</th>\n      <td>-0.018614</td>\n    </tr>\n    <tr>\n      <th>507</th>\n      <td>-0.023026</td>\n    </tr>\n    <tr>\n      <th>508</th>\n      <td>-0.005941</td>\n    </tr>\n    <tr>\n      <th>509</th>\n      <td>-0.010201</td>\n    </tr>\n    <tr>\n      <th>510</th>\n      <td>0.027308</td>\n    </tr>\n    <tr>\n      <th>...</th>\n      <td>...</td>\n    </tr>\n    <tr>\n      <th>15231</th>\n      <td>0.002135</td>\n    </tr>\n    <tr>\n      <th>15232</th>\n      <td>-0.003488</td>\n    </tr>\n    <tr>\n      <th>15233</th>\n      <td>-0.013604</td>\n    </tr>\n    <tr>\n      <th>15234</th>\n      <td>-0.004369</td>\n    </tr>\n    <tr>\n      <th>15235</th>\n      <td>-0.020535</td>\n    </tr>\n  </tbody>\n</table>\n<p>539 rows × 1 columns</p>\n</div>"
     },
     "execution_count": 11,
     "metadata": {},
     "output_type": "execute_result"
    }
   ],
   "source": [
    "predictions"
   ]
  },
  {
   "cell_type": "code",
   "execution_count": 12,
   "id": "74e34370-c313-40be-8931-2bea8d13b181",
   "metadata": {
    "ExecuteTime": {
     "end_time": "2024-03-31T10:27:14.186094Z",
     "start_time": "2024-03-31T10:27:14.177286Z"
    }
   },
   "outputs": [],
   "source": [
    "combination = pd.concat([test[[\"Player\", \"Share\"]], predictions], axis=1)"
   ]
  },
  {
   "cell_type": "code",
   "execution_count": 13,
   "id": "6264f668-147b-492f-8744-3c38e4c2e1d6",
   "metadata": {
    "ExecuteTime": {
     "end_time": "2024-03-31T10:27:14.198120Z",
     "start_time": "2024-03-31T10:27:14.187099Z"
    }
   },
   "outputs": [
    {
     "data": {
      "text/plain": "                  Player  Share  predictions\n506           AJ Griffin    0.0    -0.018614\n507        Aaron Holiday    0.0    -0.023026\n508    Bogdan Bogdanović    0.0    -0.005941\n509       Bruno Fernando    0.0    -0.010201\n510         Clint Capela    0.0     0.027308\n...                  ...    ...          ...\n15231       Monte Morris    0.0     0.002135\n15232    Quenton Jackson    0.0    -0.003488\n15233         Taj Gibson    0.0    -0.013604\n15234   Vernon Carey Jr.    0.0    -0.004369\n15235       Xavier Cooks    0.0    -0.020535\n\n[539 rows x 3 columns]",
      "text/html": "<div>\n<style scoped>\n    .dataframe tbody tr th:only-of-type {\n        vertical-align: middle;\n    }\n\n    .dataframe tbody tr th {\n        vertical-align: top;\n    }\n\n    .dataframe thead th {\n        text-align: right;\n    }\n</style>\n<table border=\"1\" class=\"dataframe\">\n  <thead>\n    <tr style=\"text-align: right;\">\n      <th></th>\n      <th>Player</th>\n      <th>Share</th>\n      <th>predictions</th>\n    </tr>\n  </thead>\n  <tbody>\n    <tr>\n      <th>506</th>\n      <td>AJ Griffin</td>\n      <td>0.0</td>\n      <td>-0.018614</td>\n    </tr>\n    <tr>\n      <th>507</th>\n      <td>Aaron Holiday</td>\n      <td>0.0</td>\n      <td>-0.023026</td>\n    </tr>\n    <tr>\n      <th>508</th>\n      <td>Bogdan Bogdanović</td>\n      <td>0.0</td>\n      <td>-0.005941</td>\n    </tr>\n    <tr>\n      <th>509</th>\n      <td>Bruno Fernando</td>\n      <td>0.0</td>\n      <td>-0.010201</td>\n    </tr>\n    <tr>\n      <th>510</th>\n      <td>Clint Capela</td>\n      <td>0.0</td>\n      <td>0.027308</td>\n    </tr>\n    <tr>\n      <th>...</th>\n      <td>...</td>\n      <td>...</td>\n      <td>...</td>\n    </tr>\n    <tr>\n      <th>15231</th>\n      <td>Monte Morris</td>\n      <td>0.0</td>\n      <td>0.002135</td>\n    </tr>\n    <tr>\n      <th>15232</th>\n      <td>Quenton Jackson</td>\n      <td>0.0</td>\n      <td>-0.003488</td>\n    </tr>\n    <tr>\n      <th>15233</th>\n      <td>Taj Gibson</td>\n      <td>0.0</td>\n      <td>-0.013604</td>\n    </tr>\n    <tr>\n      <th>15234</th>\n      <td>Vernon Carey Jr.</td>\n      <td>0.0</td>\n      <td>-0.004369</td>\n    </tr>\n    <tr>\n      <th>15235</th>\n      <td>Xavier Cooks</td>\n      <td>0.0</td>\n      <td>-0.020535</td>\n    </tr>\n  </tbody>\n</table>\n<p>539 rows × 3 columns</p>\n</div>"
     },
     "execution_count": 13,
     "metadata": {},
     "output_type": "execute_result"
    }
   ],
   "source": [
    "combination"
   ]
  },
  {
   "cell_type": "code",
   "execution_count": 14,
   "id": "dd313257-7f75-42c0-95d8-edcf1df300fa",
   "metadata": {
    "ExecuteTime": {
     "end_time": "2024-03-31T10:27:14.210384Z",
     "start_time": "2024-03-31T10:27:14.200161Z"
    }
   },
   "outputs": [
    {
     "data": {
      "text/plain": "                        Player  Share  predictions\n11333              Joel Embiid  0.915     0.202730\n3821              Nikola Jokić  0.674     0.173181\n8327     Giannis Antetokounmpo  0.606     0.225694\n1031              Jayson Tatum  0.280     0.136305\n10296  Shai Gilgeous-Alexander  0.046     0.150951\n2763          Donovan Mitchell  0.030     0.087769\n12843         Domantas Sabonis  0.027     0.092824\n3302               Luka Dončić  0.010     0.194363\n4855             Stephen Curry  0.005     0.106164\n7820              Jimmy Butler  0.003     0.112081\n12841             De'Aaron Fox  0.002     0.094339\n10032            Jalen Brunson  0.001     0.075504\n7287                 Ja Morant  0.001     0.126072\n10795                  Bol Bol  0.000     0.008286\n10292         Lindy Waters III  0.000    -0.001309\n10297                 Tre Mann  0.000    -0.011260\n10796            Caleb Houstan  0.000    -0.031339\n10295            Ousmane Dieng  0.000    -0.012092\n10294             Olivier Sarr  0.000    -0.021722\n10797              Chuma Okeke  0.000    -0.022741",
      "text/html": "<div>\n<style scoped>\n    .dataframe tbody tr th:only-of-type {\n        vertical-align: middle;\n    }\n\n    .dataframe tbody tr th {\n        vertical-align: top;\n    }\n\n    .dataframe thead th {\n        text-align: right;\n    }\n</style>\n<table border=\"1\" class=\"dataframe\">\n  <thead>\n    <tr style=\"text-align: right;\">\n      <th></th>\n      <th>Player</th>\n      <th>Share</th>\n      <th>predictions</th>\n    </tr>\n  </thead>\n  <tbody>\n    <tr>\n      <th>11333</th>\n      <td>Joel Embiid</td>\n      <td>0.915</td>\n      <td>0.202730</td>\n    </tr>\n    <tr>\n      <th>3821</th>\n      <td>Nikola Jokić</td>\n      <td>0.674</td>\n      <td>0.173181</td>\n    </tr>\n    <tr>\n      <th>8327</th>\n      <td>Giannis Antetokounmpo</td>\n      <td>0.606</td>\n      <td>0.225694</td>\n    </tr>\n    <tr>\n      <th>1031</th>\n      <td>Jayson Tatum</td>\n      <td>0.280</td>\n      <td>0.136305</td>\n    </tr>\n    <tr>\n      <th>10296</th>\n      <td>Shai Gilgeous-Alexander</td>\n      <td>0.046</td>\n      <td>0.150951</td>\n    </tr>\n    <tr>\n      <th>2763</th>\n      <td>Donovan Mitchell</td>\n      <td>0.030</td>\n      <td>0.087769</td>\n    </tr>\n    <tr>\n      <th>12843</th>\n      <td>Domantas Sabonis</td>\n      <td>0.027</td>\n      <td>0.092824</td>\n    </tr>\n    <tr>\n      <th>3302</th>\n      <td>Luka Dončić</td>\n      <td>0.010</td>\n      <td>0.194363</td>\n    </tr>\n    <tr>\n      <th>4855</th>\n      <td>Stephen Curry</td>\n      <td>0.005</td>\n      <td>0.106164</td>\n    </tr>\n    <tr>\n      <th>7820</th>\n      <td>Jimmy Butler</td>\n      <td>0.003</td>\n      <td>0.112081</td>\n    </tr>\n    <tr>\n      <th>12841</th>\n      <td>De'Aaron Fox</td>\n      <td>0.002</td>\n      <td>0.094339</td>\n    </tr>\n    <tr>\n      <th>10032</th>\n      <td>Jalen Brunson</td>\n      <td>0.001</td>\n      <td>0.075504</td>\n    </tr>\n    <tr>\n      <th>7287</th>\n      <td>Ja Morant</td>\n      <td>0.001</td>\n      <td>0.126072</td>\n    </tr>\n    <tr>\n      <th>10795</th>\n      <td>Bol Bol</td>\n      <td>0.000</td>\n      <td>0.008286</td>\n    </tr>\n    <tr>\n      <th>10292</th>\n      <td>Lindy Waters III</td>\n      <td>0.000</td>\n      <td>-0.001309</td>\n    </tr>\n    <tr>\n      <th>10297</th>\n      <td>Tre Mann</td>\n      <td>0.000</td>\n      <td>-0.011260</td>\n    </tr>\n    <tr>\n      <th>10796</th>\n      <td>Caleb Houstan</td>\n      <td>0.000</td>\n      <td>-0.031339</td>\n    </tr>\n    <tr>\n      <th>10295</th>\n      <td>Ousmane Dieng</td>\n      <td>0.000</td>\n      <td>-0.012092</td>\n    </tr>\n    <tr>\n      <th>10294</th>\n      <td>Olivier Sarr</td>\n      <td>0.000</td>\n      <td>-0.021722</td>\n    </tr>\n    <tr>\n      <th>10797</th>\n      <td>Chuma Okeke</td>\n      <td>0.000</td>\n      <td>-0.022741</td>\n    </tr>\n  </tbody>\n</table>\n</div>"
     },
     "execution_count": 14,
     "metadata": {},
     "output_type": "execute_result"
    }
   ],
   "source": [
    "combination.sort_values(\"Share\", ascending=False).head(20)"
   ]
  },
  {
   "cell_type": "code",
   "execution_count": 15,
   "id": "d3f47358-fd88-4fca-9413-1cfa30db806c",
   "metadata": {
    "ExecuteTime": {
     "end_time": "2024-03-31T10:27:14.221496Z",
     "start_time": "2024-03-31T10:27:14.211389Z"
    }
   },
   "outputs": [
    {
     "data": {
      "text/plain": "0.0026601929079442537"
     },
     "execution_count": 15,
     "metadata": {},
     "output_type": "execute_result"
    }
   ],
   "source": [
    "# Identifying an Error Metric \n",
    "from sklearn.metrics import mean_squared_error\n",
    "mean_squared_error(combination[\"Share\"], combination[\"predictions\"])"
   ]
  },
  {
   "cell_type": "code",
   "execution_count": 16,
   "id": "5afb3ad1-1f8e-4de2-a2a6-f1c84b953f81",
   "metadata": {
    "ExecuteTime": {
     "end_time": "2024-03-31T10:27:14.230110Z",
     "start_time": "2024-03-31T10:27:14.222502Z"
    }
   },
   "outputs": [
    {
     "data": {
      "text/plain": "Share\n0.000    526\n0.001      2\n0.280      1\n0.030      1\n0.010      1\n0.674      1\n0.005      1\n0.003      1\n0.606      1\n0.046      1\n0.915      1\n0.002      1\n0.027      1\nName: count, dtype: int64"
     },
     "execution_count": 16,
     "metadata": {},
     "output_type": "execute_result"
    }
   ],
   "source": [
    "# Vast majority didnt get MVP votes, so mse is not that helpful\n",
    "combination[\"Share\"].value_counts()"
   ]
  },
  {
   "cell_type": "code",
   "execution_count": 17,
   "id": "0b66a71a-f7bd-4482-afcf-70848e31bd60",
   "metadata": {
    "ExecuteTime": {
     "end_time": "2024-03-31T10:27:14.238113Z",
     "start_time": "2024-03-31T10:27:14.231114Z"
    }
   },
   "outputs": [],
   "source": [
    "# Add Rk Column and use 1 based indexing\n",
    "combination = combination.sort_values(\"Share\", ascending=False)\n",
    "combination[\"Rk\"] = list(range(1,combination.shape[0]+1))"
   ]
  },
  {
   "cell_type": "code",
   "execution_count": 18,
   "id": "dac6e543-567d-4112-b9c4-ac993c9abffa",
   "metadata": {
    "ExecuteTime": {
     "end_time": "2024-03-31T10:27:14.248226Z",
     "start_time": "2024-03-31T10:27:14.238113Z"
    }
   },
   "outputs": [
    {
     "data": {
      "text/plain": "                        Player  Share  predictions  Rk\n11333              Joel Embiid  0.915     0.202730   1\n3821              Nikola Jokić  0.674     0.173181   2\n8327     Giannis Antetokounmpo  0.606     0.225694   3\n1031              Jayson Tatum  0.280     0.136305   4\n10296  Shai Gilgeous-Alexander  0.046     0.150951   5\n2763          Donovan Mitchell  0.030     0.087769   6\n12843         Domantas Sabonis  0.027     0.092824   7\n3302               Luka Dončić  0.010     0.194363   8\n4855             Stephen Curry  0.005     0.106164   9\n7820              Jimmy Butler  0.003     0.112081  10",
      "text/html": "<div>\n<style scoped>\n    .dataframe tbody tr th:only-of-type {\n        vertical-align: middle;\n    }\n\n    .dataframe tbody tr th {\n        vertical-align: top;\n    }\n\n    .dataframe thead th {\n        text-align: right;\n    }\n</style>\n<table border=\"1\" class=\"dataframe\">\n  <thead>\n    <tr style=\"text-align: right;\">\n      <th></th>\n      <th>Player</th>\n      <th>Share</th>\n      <th>predictions</th>\n      <th>Rk</th>\n    </tr>\n  </thead>\n  <tbody>\n    <tr>\n      <th>11333</th>\n      <td>Joel Embiid</td>\n      <td>0.915</td>\n      <td>0.202730</td>\n      <td>1</td>\n    </tr>\n    <tr>\n      <th>3821</th>\n      <td>Nikola Jokić</td>\n      <td>0.674</td>\n      <td>0.173181</td>\n      <td>2</td>\n    </tr>\n    <tr>\n      <th>8327</th>\n      <td>Giannis Antetokounmpo</td>\n      <td>0.606</td>\n      <td>0.225694</td>\n      <td>3</td>\n    </tr>\n    <tr>\n      <th>1031</th>\n      <td>Jayson Tatum</td>\n      <td>0.280</td>\n      <td>0.136305</td>\n      <td>4</td>\n    </tr>\n    <tr>\n      <th>10296</th>\n      <td>Shai Gilgeous-Alexander</td>\n      <td>0.046</td>\n      <td>0.150951</td>\n      <td>5</td>\n    </tr>\n    <tr>\n      <th>2763</th>\n      <td>Donovan Mitchell</td>\n      <td>0.030</td>\n      <td>0.087769</td>\n      <td>6</td>\n    </tr>\n    <tr>\n      <th>12843</th>\n      <td>Domantas Sabonis</td>\n      <td>0.027</td>\n      <td>0.092824</td>\n      <td>7</td>\n    </tr>\n    <tr>\n      <th>3302</th>\n      <td>Luka Dončić</td>\n      <td>0.010</td>\n      <td>0.194363</td>\n      <td>8</td>\n    </tr>\n    <tr>\n      <th>4855</th>\n      <td>Stephen Curry</td>\n      <td>0.005</td>\n      <td>0.106164</td>\n      <td>9</td>\n    </tr>\n    <tr>\n      <th>7820</th>\n      <td>Jimmy Butler</td>\n      <td>0.003</td>\n      <td>0.112081</td>\n      <td>10</td>\n    </tr>\n  </tbody>\n</table>\n</div>"
     },
     "execution_count": 18,
     "metadata": {},
     "output_type": "execute_result"
    }
   ],
   "source": [
    "combination.head(10)"
   ]
  },
  {
   "cell_type": "code",
   "execution_count": 19,
   "id": "72785baf-568c-4a4a-abe6-26323d3bdfd1",
   "metadata": {
    "ExecuteTime": {
     "end_time": "2024-03-31T10:27:14.259478Z",
     "start_time": "2024-03-31T10:27:14.249231Z"
    }
   },
   "outputs": [],
   "source": [
    "combination = combination.sort_values(\"predictions\", ascending=False)\n",
    "combination[\"Predicted_Rk\"] = list(range(1,combination.shape[0]+1))"
   ]
  },
  {
   "cell_type": "code",
   "execution_count": 20,
   "id": "732a3a19-2c86-42fa-9453-17a6f0c235e0",
   "metadata": {
    "ExecuteTime": {
     "end_time": "2024-03-31T10:27:14.270777Z",
     "start_time": "2024-03-31T10:27:14.259478Z"
    }
   },
   "outputs": [
    {
     "data": {
      "text/plain": "                        Player  Share  predictions   Rk  Predicted_Rk\n8327     Giannis Antetokounmpo  0.606     0.225694    3             1\n11333              Joel Embiid  0.915     0.202730    1             2\n3302               Luka Dončić  0.010     0.194363    8             3\n3821              Nikola Jokić  0.674     0.173181    2             4\n10296  Shai Gilgeous-Alexander  0.046     0.150951    5             5\n11839             Kevin Durant  0.000     0.140954  234             6\n6913             Anthony Davis  0.000     0.140513  415             7\n12332           Damian Lillard  0.000     0.136720  225             8\n1031              Jayson Tatum  0.280     0.136305    4             9\n6920              LeBron James  0.000     0.132678  441            10",
      "text/html": "<div>\n<style scoped>\n    .dataframe tbody tr th:only-of-type {\n        vertical-align: middle;\n    }\n\n    .dataframe tbody tr th {\n        vertical-align: top;\n    }\n\n    .dataframe thead th {\n        text-align: right;\n    }\n</style>\n<table border=\"1\" class=\"dataframe\">\n  <thead>\n    <tr style=\"text-align: right;\">\n      <th></th>\n      <th>Player</th>\n      <th>Share</th>\n      <th>predictions</th>\n      <th>Rk</th>\n      <th>Predicted_Rk</th>\n    </tr>\n  </thead>\n  <tbody>\n    <tr>\n      <th>8327</th>\n      <td>Giannis Antetokounmpo</td>\n      <td>0.606</td>\n      <td>0.225694</td>\n      <td>3</td>\n      <td>1</td>\n    </tr>\n    <tr>\n      <th>11333</th>\n      <td>Joel Embiid</td>\n      <td>0.915</td>\n      <td>0.202730</td>\n      <td>1</td>\n      <td>2</td>\n    </tr>\n    <tr>\n      <th>3302</th>\n      <td>Luka Dončić</td>\n      <td>0.010</td>\n      <td>0.194363</td>\n      <td>8</td>\n      <td>3</td>\n    </tr>\n    <tr>\n      <th>3821</th>\n      <td>Nikola Jokić</td>\n      <td>0.674</td>\n      <td>0.173181</td>\n      <td>2</td>\n      <td>4</td>\n    </tr>\n    <tr>\n      <th>10296</th>\n      <td>Shai Gilgeous-Alexander</td>\n      <td>0.046</td>\n      <td>0.150951</td>\n      <td>5</td>\n      <td>5</td>\n    </tr>\n    <tr>\n      <th>11839</th>\n      <td>Kevin Durant</td>\n      <td>0.000</td>\n      <td>0.140954</td>\n      <td>234</td>\n      <td>6</td>\n    </tr>\n    <tr>\n      <th>6913</th>\n      <td>Anthony Davis</td>\n      <td>0.000</td>\n      <td>0.140513</td>\n      <td>415</td>\n      <td>7</td>\n    </tr>\n    <tr>\n      <th>12332</th>\n      <td>Damian Lillard</td>\n      <td>0.000</td>\n      <td>0.136720</td>\n      <td>225</td>\n      <td>8</td>\n    </tr>\n    <tr>\n      <th>1031</th>\n      <td>Jayson Tatum</td>\n      <td>0.280</td>\n      <td>0.136305</td>\n      <td>4</td>\n      <td>9</td>\n    </tr>\n    <tr>\n      <th>6920</th>\n      <td>LeBron James</td>\n      <td>0.000</td>\n      <td>0.132678</td>\n      <td>441</td>\n      <td>10</td>\n    </tr>\n  </tbody>\n</table>\n</div>"
     },
     "execution_count": 20,
     "metadata": {},
     "output_type": "execute_result"
    }
   ],
   "source": [
    "combination.head(10)"
   ]
  },
  {
   "cell_type": "code",
   "execution_count": 21,
   "id": "3a21a1b3-4952-423e-a4bb-debffa26ea7f",
   "metadata": {
    "ExecuteTime": {
     "end_time": "2024-03-31T10:27:14.283695Z",
     "start_time": "2024-03-31T10:27:14.271781Z"
    }
   },
   "outputs": [
    {
     "data": {
      "text/plain": "                        Player  Share  predictions  Rk  Predicted_Rk\n11333              Joel Embiid  0.915     0.202730   1             2\n3821              Nikola Jokić  0.674     0.173181   2             4\n8327     Giannis Antetokounmpo  0.606     0.225694   3             1\n1031              Jayson Tatum  0.280     0.136305   4             9\n10296  Shai Gilgeous-Alexander  0.046     0.150951   5             5\n2763          Donovan Mitchell  0.030     0.087769   6            22\n12843         Domantas Sabonis  0.027     0.092824   7            18\n3302               Luka Dončić  0.010     0.194363   8             3\n4855             Stephen Curry  0.005     0.106164   9            14\n7820              Jimmy Butler  0.003     0.112081  10            13",
      "text/html": "<div>\n<style scoped>\n    .dataframe tbody tr th:only-of-type {\n        vertical-align: middle;\n    }\n\n    .dataframe tbody tr th {\n        vertical-align: top;\n    }\n\n    .dataframe thead th {\n        text-align: right;\n    }\n</style>\n<table border=\"1\" class=\"dataframe\">\n  <thead>\n    <tr style=\"text-align: right;\">\n      <th></th>\n      <th>Player</th>\n      <th>Share</th>\n      <th>predictions</th>\n      <th>Rk</th>\n      <th>Predicted_Rk</th>\n    </tr>\n  </thead>\n  <tbody>\n    <tr>\n      <th>11333</th>\n      <td>Joel Embiid</td>\n      <td>0.915</td>\n      <td>0.202730</td>\n      <td>1</td>\n      <td>2</td>\n    </tr>\n    <tr>\n      <th>3821</th>\n      <td>Nikola Jokić</td>\n      <td>0.674</td>\n      <td>0.173181</td>\n      <td>2</td>\n      <td>4</td>\n    </tr>\n    <tr>\n      <th>8327</th>\n      <td>Giannis Antetokounmpo</td>\n      <td>0.606</td>\n      <td>0.225694</td>\n      <td>3</td>\n      <td>1</td>\n    </tr>\n    <tr>\n      <th>1031</th>\n      <td>Jayson Tatum</td>\n      <td>0.280</td>\n      <td>0.136305</td>\n      <td>4</td>\n      <td>9</td>\n    </tr>\n    <tr>\n      <th>10296</th>\n      <td>Shai Gilgeous-Alexander</td>\n      <td>0.046</td>\n      <td>0.150951</td>\n      <td>5</td>\n      <td>5</td>\n    </tr>\n    <tr>\n      <th>2763</th>\n      <td>Donovan Mitchell</td>\n      <td>0.030</td>\n      <td>0.087769</td>\n      <td>6</td>\n      <td>22</td>\n    </tr>\n    <tr>\n      <th>12843</th>\n      <td>Domantas Sabonis</td>\n      <td>0.027</td>\n      <td>0.092824</td>\n      <td>7</td>\n      <td>18</td>\n    </tr>\n    <tr>\n      <th>3302</th>\n      <td>Luka Dončić</td>\n      <td>0.010</td>\n      <td>0.194363</td>\n      <td>8</td>\n      <td>3</td>\n    </tr>\n    <tr>\n      <th>4855</th>\n      <td>Stephen Curry</td>\n      <td>0.005</td>\n      <td>0.106164</td>\n      <td>9</td>\n      <td>14</td>\n    </tr>\n    <tr>\n      <th>7820</th>\n      <td>Jimmy Butler</td>\n      <td>0.003</td>\n      <td>0.112081</td>\n      <td>10</td>\n      <td>13</td>\n    </tr>\n  </tbody>\n</table>\n</div>"
     },
     "execution_count": 21,
     "metadata": {},
     "output_type": "execute_result"
    }
   ],
   "source": [
    "# Error Metric: Average Precision\n",
    "# We only care about the top 5 vote getters\n",
    "\n",
    "combination.sort_values(\"Share\", ascending=False).head(10)"
   ]
  },
  {
   "cell_type": "code",
   "execution_count": 22,
   "id": "9baba6f7-2dbc-4af0-a133-e320c2a6e26a",
   "metadata": {
    "ExecuteTime": {
     "end_time": "2024-03-31T10:27:14.293305Z",
     "start_time": "2024-03-31T10:27:14.284701Z"
    }
   },
   "outputs": [],
   "source": [
    "# Function to sort and take top 5 winners\n",
    "\n",
    "def find_ap(combination):\n",
    "    actual = combination.sort_values(\"Share\", ascending=False).head(5)\n",
    "    predicted = combination.sort_values(\"predictions\", ascending=False)\n",
    "    ps = []\n",
    "    found = 0\n",
    "    seen = 1\n",
    "    for index,row in predicted.iterrows():\n",
    "        if row[\"Player\"] in actual[\"Player\"].values:\n",
    "            found += 1\n",
    "            ps.append(found / seen)\n",
    "        seen += 1\n",
    "\n",
    "    return sum(ps) / len(ps)"
   ]
  },
  {
   "cell_type": "code",
   "execution_count": 23,
   "id": "93ad8cea-7cc0-417a-9c4e-d115de78d2af",
   "metadata": {
    "ExecuteTime": {
     "end_time": "2024-03-31T10:27:14.333753Z",
     "start_time": "2024-03-31T10:27:14.293305Z"
    }
   },
   "outputs": [
    {
     "data": {
      "text/plain": "0.8211111111111112"
     },
     "execution_count": 23,
     "metadata": {},
     "output_type": "execute_result"
    }
   ],
   "source": [
    "ap = find_ap(combination)\n",
    "ap"
   ]
  },
  {
   "cell_type": "code",
   "execution_count": 24,
   "id": "4f37f5fb-f937-4524-b2b3-4ec630476e59",
   "metadata": {
    "ExecuteTime": {
     "end_time": "2024-03-31T10:27:15.646039Z",
     "start_time": "2024-03-31T10:27:14.334756Z"
    }
   },
   "outputs": [],
   "source": [
    "# Backtesting to predict each year\n",
    "years = list(range(1991,2024))\n",
    "\n",
    "aps = []\n",
    "all_predictions = []\n",
    "for year in years[5:]:\n",
    "    train = stats[stats[\"Year\"] < year]\n",
    "    test = stats[stats[\"Year\"] == year]\n",
    "    reg.fit(train[predictors],train[\"Share\"])\n",
    "    predictions = reg.predict(test[predictors])\n",
    "    predictions = pd.DataFrame(predictions, columns=[\"predictions\"], index=test.index)\n",
    "    combination = pd.concat([test[[\"Player\", \"Share\"]], predictions], axis=1)\n",
    "    all_predictions.append(combination)\n",
    "    aps.append(find_ap(combination))\n"
   ]
  },
  {
   "cell_type": "code",
   "execution_count": 25,
   "id": "88e3ee81-5de9-4198-8f1f-c6081ae5532a",
   "metadata": {
    "ExecuteTime": {
     "end_time": "2024-03-31T10:27:15.650757Z",
     "start_time": "2024-03-31T10:27:15.647043Z"
    }
   },
   "outputs": [
    {
     "data": {
      "text/plain": "0.7189767597180119"
     },
     "execution_count": 25,
     "metadata": {},
     "output_type": "execute_result"
    }
   ],
   "source": [
    "sum(aps) / len(aps)"
   ]
  },
  {
   "cell_type": "code",
   "execution_count": 26,
   "id": "7e4f1e2d-a9b9-48e2-aa4d-2eebb1eae3a7",
   "metadata": {
    "ExecuteTime": {
     "end_time": "2024-03-31T10:27:15.659083Z",
     "start_time": "2024-03-31T10:27:15.651765Z"
    }
   },
   "outputs": [],
   "source": [
    "def add_ranks(predictions):\n",
    "    predictions = predictions.sort_values(\"predictions\", ascending=False)\n",
    "    predictions[\"Predicted_Rk\"] = list(range(1,predictions.shape[0]+1))\n",
    "    predictions = predictions.sort_values(\"Share\", ascending=False)\n",
    "    predictions[\"Rk\"] = list(range(1,predictions.shape[0]+1))\n",
    "    predictions[\"Diff\"] = (predictions[\"Rk\"] - predictions[\"Predicted_Rk\"])\n",
    "    return predictions"
   ]
  },
  {
   "cell_type": "code",
   "execution_count": 27,
   "id": "112c72ba-86a4-49d0-8098-8558ea6c88ed",
   "metadata": {
    "ExecuteTime": {
     "end_time": "2024-03-31T10:27:15.675397Z",
     "start_time": "2024-03-31T10:27:15.660087Z"
    }
   },
   "outputs": [
    {
     "data": {
      "text/plain": "                        Player  Share  predictions  Predicted_Rk  Rk  Diff\n8327     Giannis Antetokounmpo  0.606     0.225694             1   3     2\n10296  Shai Gilgeous-Alexander  0.046     0.150951             5   5     0\n11333              Joel Embiid  0.915     0.202730             2   1    -1\n3821              Nikola Jokić  0.674     0.173181             4   2    -2\n1031              Jayson Tatum  0.280     0.136305             9   4    -5",
      "text/html": "<div>\n<style scoped>\n    .dataframe tbody tr th:only-of-type {\n        vertical-align: middle;\n    }\n\n    .dataframe tbody tr th {\n        vertical-align: top;\n    }\n\n    .dataframe thead th {\n        text-align: right;\n    }\n</style>\n<table border=\"1\" class=\"dataframe\">\n  <thead>\n    <tr style=\"text-align: right;\">\n      <th></th>\n      <th>Player</th>\n      <th>Share</th>\n      <th>predictions</th>\n      <th>Predicted_Rk</th>\n      <th>Rk</th>\n      <th>Diff</th>\n    </tr>\n  </thead>\n  <tbody>\n    <tr>\n      <th>8327</th>\n      <td>Giannis Antetokounmpo</td>\n      <td>0.606</td>\n      <td>0.225694</td>\n      <td>1</td>\n      <td>3</td>\n      <td>2</td>\n    </tr>\n    <tr>\n      <th>10296</th>\n      <td>Shai Gilgeous-Alexander</td>\n      <td>0.046</td>\n      <td>0.150951</td>\n      <td>5</td>\n      <td>5</td>\n      <td>0</td>\n    </tr>\n    <tr>\n      <th>11333</th>\n      <td>Joel Embiid</td>\n      <td>0.915</td>\n      <td>0.202730</td>\n      <td>2</td>\n      <td>1</td>\n      <td>-1</td>\n    </tr>\n    <tr>\n      <th>3821</th>\n      <td>Nikola Jokić</td>\n      <td>0.674</td>\n      <td>0.173181</td>\n      <td>4</td>\n      <td>2</td>\n      <td>-2</td>\n    </tr>\n    <tr>\n      <th>1031</th>\n      <td>Jayson Tatum</td>\n      <td>0.280</td>\n      <td>0.136305</td>\n      <td>9</td>\n      <td>4</td>\n      <td>-5</td>\n    </tr>\n  </tbody>\n</table>\n</div>"
     },
     "execution_count": 27,
     "metadata": {},
     "output_type": "execute_result"
    }
   ],
   "source": [
    "add_ranks(all_predictions[-1])[add_ranks(all_predictions[-1])[\"Rk\"] <= 5].sort_values(\"Diff\", ascending=False)"
   ]
  },
  {
   "cell_type": "code",
   "execution_count": 28,
   "id": "c3088204-7561-43b5-8478-6ae10153a2a4",
   "metadata": {
    "ExecuteTime": {
     "end_time": "2024-03-31T10:27:15.681147Z",
     "start_time": "2024-03-31T10:27:15.676403Z"
    }
   },
   "outputs": [],
   "source": [
    "def backtest(stats, model, years, predictors):\n",
    "    aps = []\n",
    "    all_predictions = []\n",
    "    for year in years:\n",
    "        train = stats[stats[\"Year\"] < year]\n",
    "        test = stats[stats[\"Year\"] == year]\n",
    "        model.fit(train[predictors],train[\"Share\"])\n",
    "        predictions = model.predict(test[predictors])\n",
    "        predictions = pd.DataFrame(predictions, columns=[\"predictions\"], index=test.index)\n",
    "        combination = pd.concat([test[[\"Player\", \"Share\"]], predictions], axis=1)\n",
    "        combination = add_ranks(combination)\n",
    "        all_predictions.append(combination)\n",
    "        aps.append(find_ap(combination))\n",
    "    return sum(aps) / len(aps), aps, pd.concat(all_predictions)"
   ]
  },
  {
   "cell_type": "code",
   "execution_count": 29,
   "id": "612f8c18-14bb-4e8e-882d-cdeafdf87177",
   "metadata": {
    "ExecuteTime": {
     "end_time": "2024-03-31T10:27:17.013604Z",
     "start_time": "2024-03-31T10:27:15.682152Z"
    }
   },
   "outputs": [
    {
     "data": {
      "text/plain": "0.7189767597180119"
     },
     "execution_count": 29,
     "metadata": {},
     "output_type": "execute_result"
    }
   ],
   "source": [
    "mean_ap, aps, all_predictions = backtest(stats, reg, years[5:], predictors)\n",
    "mean_ap"
   ]
  },
  {
   "cell_type": "code",
   "execution_count": 30,
   "id": "1c13e3f1-b050-4ebc-9fd4-998ca67bdeed",
   "metadata": {
    "ExecuteTime": {
     "end_time": "2024-03-31T10:27:17.022959Z",
     "start_time": "2024-03-31T10:27:17.014611Z"
    }
   },
   "outputs": [
    {
     "data": {
      "text/plain": "                Player  Share  predictions  Predicted_Rk  Rk  Diff\n9018        Jason Kidd  0.712     0.027957            52   2   -50\n11555       Steve Nash  0.839     0.032686            47   1   -46\n12546  Peja Stojaković  0.228     0.035581            39   4   -35\n11573       Steve Nash  0.739     0.051338            35   1   -34\n2073       Joakim Noah  0.258     0.047390            37   4   -33\n11588       Steve Nash  0.785     0.070791            23   2   -21\n7397      Tim Hardaway  0.207     0.059992            20   4   -16\n11814     Devin Booker  0.216     0.092999            16   4   -12\n6727       Kobe Bryant  0.291     0.077829            14   4   -10\n13476      Gary Payton  0.372     0.076145            13   3   -10",
      "text/html": "<div>\n<style scoped>\n    .dataframe tbody tr th:only-of-type {\n        vertical-align: middle;\n    }\n\n    .dataframe tbody tr th {\n        vertical-align: top;\n    }\n\n    .dataframe thead th {\n        text-align: right;\n    }\n</style>\n<table border=\"1\" class=\"dataframe\">\n  <thead>\n    <tr style=\"text-align: right;\">\n      <th></th>\n      <th>Player</th>\n      <th>Share</th>\n      <th>predictions</th>\n      <th>Predicted_Rk</th>\n      <th>Rk</th>\n      <th>Diff</th>\n    </tr>\n  </thead>\n  <tbody>\n    <tr>\n      <th>9018</th>\n      <td>Jason Kidd</td>\n      <td>0.712</td>\n      <td>0.027957</td>\n      <td>52</td>\n      <td>2</td>\n      <td>-50</td>\n    </tr>\n    <tr>\n      <th>11555</th>\n      <td>Steve Nash</td>\n      <td>0.839</td>\n      <td>0.032686</td>\n      <td>47</td>\n      <td>1</td>\n      <td>-46</td>\n    </tr>\n    <tr>\n      <th>12546</th>\n      <td>Peja Stojaković</td>\n      <td>0.228</td>\n      <td>0.035581</td>\n      <td>39</td>\n      <td>4</td>\n      <td>-35</td>\n    </tr>\n    <tr>\n      <th>11573</th>\n      <td>Steve Nash</td>\n      <td>0.739</td>\n      <td>0.051338</td>\n      <td>35</td>\n      <td>1</td>\n      <td>-34</td>\n    </tr>\n    <tr>\n      <th>2073</th>\n      <td>Joakim Noah</td>\n      <td>0.258</td>\n      <td>0.047390</td>\n      <td>37</td>\n      <td>4</td>\n      <td>-33</td>\n    </tr>\n    <tr>\n      <th>11588</th>\n      <td>Steve Nash</td>\n      <td>0.785</td>\n      <td>0.070791</td>\n      <td>23</td>\n      <td>2</td>\n      <td>-21</td>\n    </tr>\n    <tr>\n      <th>7397</th>\n      <td>Tim Hardaway</td>\n      <td>0.207</td>\n      <td>0.059992</td>\n      <td>20</td>\n      <td>4</td>\n      <td>-16</td>\n    </tr>\n    <tr>\n      <th>11814</th>\n      <td>Devin Booker</td>\n      <td>0.216</td>\n      <td>0.092999</td>\n      <td>16</td>\n      <td>4</td>\n      <td>-12</td>\n    </tr>\n    <tr>\n      <th>6727</th>\n      <td>Kobe Bryant</td>\n      <td>0.291</td>\n      <td>0.077829</td>\n      <td>14</td>\n      <td>4</td>\n      <td>-10</td>\n    </tr>\n    <tr>\n      <th>13476</th>\n      <td>Gary Payton</td>\n      <td>0.372</td>\n      <td>0.076145</td>\n      <td>13</td>\n      <td>3</td>\n      <td>-10</td>\n    </tr>\n  </tbody>\n</table>\n</div>"
     },
     "execution_count": 30,
     "metadata": {},
     "output_type": "execute_result"
    }
   ],
   "source": [
    "all_predictions[all_predictions[\"Rk\"] < 5].sort_values(\"Diff\").head(10)"
   ]
  },
  {
   "cell_type": "code",
   "execution_count": 31,
   "id": "443814e0-4be0-4a01-9131-1215017fba3e",
   "metadata": {
    "ExecuteTime": {
     "end_time": "2024-03-31T10:27:17.035640Z",
     "start_time": "2024-03-31T10:27:17.022959Z"
    }
   },
   "outputs": [
    {
     "data": {
      "text/plain": "           0     1\n13  0.099448  eFG%\n18  0.032759   DRB\n28  0.028856  W/L%\n17  0.020541   ORB\n10  0.016192    2P\n21  0.012445   STL\n22  0.010485   BLK\n15  0.010386   FTA\n12  0.007650   2P%\n25  0.006978   PTS\n20  0.006923   AST\n5   0.005111   FGA\n4   0.002353    FG\n7   0.000979    3P\n0   0.000304   Age\n29  0.000296    GB\n26  0.000146     W\n1   0.000093     G\n2   0.000002    GS\n31 -0.000145  PA/G\n27 -0.000294     L\n32 -0.000519   SRS\n30 -0.000689  PS/G\n24 -0.002266    PF\n3  -0.003989    MP\n16 -0.005061   FT%\n14 -0.006043    FT\n23 -0.008873   TOV\n9  -0.009409   3P%\n8  -0.010170   3PA\n11 -0.016310   2PA\n19 -0.025841   TRB\n6  -0.166949   FG%",
      "text/html": "<div>\n<style scoped>\n    .dataframe tbody tr th:only-of-type {\n        vertical-align: middle;\n    }\n\n    .dataframe tbody tr th {\n        vertical-align: top;\n    }\n\n    .dataframe thead th {\n        text-align: right;\n    }\n</style>\n<table border=\"1\" class=\"dataframe\">\n  <thead>\n    <tr style=\"text-align: right;\">\n      <th></th>\n      <th>0</th>\n      <th>1</th>\n    </tr>\n  </thead>\n  <tbody>\n    <tr>\n      <th>13</th>\n      <td>0.099448</td>\n      <td>eFG%</td>\n    </tr>\n    <tr>\n      <th>18</th>\n      <td>0.032759</td>\n      <td>DRB</td>\n    </tr>\n    <tr>\n      <th>28</th>\n      <td>0.028856</td>\n      <td>W/L%</td>\n    </tr>\n    <tr>\n      <th>17</th>\n      <td>0.020541</td>\n      <td>ORB</td>\n    </tr>\n    <tr>\n      <th>10</th>\n      <td>0.016192</td>\n      <td>2P</td>\n    </tr>\n    <tr>\n      <th>21</th>\n      <td>0.012445</td>\n      <td>STL</td>\n    </tr>\n    <tr>\n      <th>22</th>\n      <td>0.010485</td>\n      <td>BLK</td>\n    </tr>\n    <tr>\n      <th>15</th>\n      <td>0.010386</td>\n      <td>FTA</td>\n    </tr>\n    <tr>\n      <th>12</th>\n      <td>0.007650</td>\n      <td>2P%</td>\n    </tr>\n    <tr>\n      <th>25</th>\n      <td>0.006978</td>\n      <td>PTS</td>\n    </tr>\n    <tr>\n      <th>20</th>\n      <td>0.006923</td>\n      <td>AST</td>\n    </tr>\n    <tr>\n      <th>5</th>\n      <td>0.005111</td>\n      <td>FGA</td>\n    </tr>\n    <tr>\n      <th>4</th>\n      <td>0.002353</td>\n      <td>FG</td>\n    </tr>\n    <tr>\n      <th>7</th>\n      <td>0.000979</td>\n      <td>3P</td>\n    </tr>\n    <tr>\n      <th>0</th>\n      <td>0.000304</td>\n      <td>Age</td>\n    </tr>\n    <tr>\n      <th>29</th>\n      <td>0.000296</td>\n      <td>GB</td>\n    </tr>\n    <tr>\n      <th>26</th>\n      <td>0.000146</td>\n      <td>W</td>\n    </tr>\n    <tr>\n      <th>1</th>\n      <td>0.000093</td>\n      <td>G</td>\n    </tr>\n    <tr>\n      <th>2</th>\n      <td>0.000002</td>\n      <td>GS</td>\n    </tr>\n    <tr>\n      <th>31</th>\n      <td>-0.000145</td>\n      <td>PA/G</td>\n    </tr>\n    <tr>\n      <th>27</th>\n      <td>-0.000294</td>\n      <td>L</td>\n    </tr>\n    <tr>\n      <th>32</th>\n      <td>-0.000519</td>\n      <td>SRS</td>\n    </tr>\n    <tr>\n      <th>30</th>\n      <td>-0.000689</td>\n      <td>PS/G</td>\n    </tr>\n    <tr>\n      <th>24</th>\n      <td>-0.002266</td>\n      <td>PF</td>\n    </tr>\n    <tr>\n      <th>3</th>\n      <td>-0.003989</td>\n      <td>MP</td>\n    </tr>\n    <tr>\n      <th>16</th>\n      <td>-0.005061</td>\n      <td>FT%</td>\n    </tr>\n    <tr>\n      <th>14</th>\n      <td>-0.006043</td>\n      <td>FT</td>\n    </tr>\n    <tr>\n      <th>23</th>\n      <td>-0.008873</td>\n      <td>TOV</td>\n    </tr>\n    <tr>\n      <th>9</th>\n      <td>-0.009409</td>\n      <td>3P%</td>\n    </tr>\n    <tr>\n      <th>8</th>\n      <td>-0.010170</td>\n      <td>3PA</td>\n    </tr>\n    <tr>\n      <th>11</th>\n      <td>-0.016310</td>\n      <td>2PA</td>\n    </tr>\n    <tr>\n      <th>19</th>\n      <td>-0.025841</td>\n      <td>TRB</td>\n    </tr>\n    <tr>\n      <th>6</th>\n      <td>-0.166949</td>\n      <td>FG%</td>\n    </tr>\n  </tbody>\n</table>\n</div>"
     },
     "execution_count": 31,
     "metadata": {},
     "output_type": "execute_result"
    }
   ],
   "source": [
    "pd.concat([pd.Series(reg.coef_), pd.Series(predictors)], axis=1).sort_values(0, ascending=False)"
   ]
  },
  {
   "cell_type": "code",
   "execution_count": 32,
   "id": "4cc57dd9-f8e5-4da9-b970-fd683e18f31c",
   "metadata": {
    "ExecuteTime": {
     "end_time": "2024-03-31T10:27:17.070633Z",
     "start_time": "2024-03-31T10:27:17.036682Z"
    }
   },
   "outputs": [
    {
     "name": "stderr",
     "output_type": "stream",
     "text": [
      "C:\\Users\\Kai\\AppData\\Local\\Temp\\ipykernel_17156\\2008012880.py:2: DeprecationWarning: DataFrameGroupBy.apply operated on the grouping columns. This behavior is deprecated, and in a future version of pandas the grouping columns will be excluded from the operation. Either pass `include_groups=False` to exclude the groupings or explicitly select the grouping columns after groupby to silence this warning.\n",
      "  stat_ratios = stats[[\"PTS\", \"AST\", \"STL\", \"BLK\", \"3P\", \"Year\"]].groupby(\"Year\").apply(lambda x: x/x.mean())\n"
     ]
    },
    {
     "data": {
      "text/plain": "                 PTS       AST       STL       BLK        3P  Year\nYear                                                              \n1991 0      1.692601  2.010078  2.608773  1.346939  5.594452   1.0\n     1      2.884104  1.542618  2.059558  1.795918  5.085865   1.0\n     2      0.679268  0.327222  0.549215  0.673469  0.000000   1.0\n     3      0.055678  0.000000  0.000000  0.673469  0.000000   1.0\n     4      1.514433  1.262142  0.823823  0.224490  1.017173   1.0\n...              ...       ...       ...       ...       ...   ...\n2023 15231  1.129221  2.561833  1.148205  0.523047  1.312418   1.0\n     15232  0.679725  0.821720  0.656117  0.261524  0.100955   1.0\n     15233  0.372752  0.338355  0.492088  0.523047  0.201910   1.0\n     15234  0.054817  0.145009  0.328058  0.523047  0.000000   1.0\n     15235  0.416606  0.290019  0.984175  1.046094  0.000000   1.0\n\n[15236 rows x 6 columns]",
      "text/html": "<div>\n<style scoped>\n    .dataframe tbody tr th:only-of-type {\n        vertical-align: middle;\n    }\n\n    .dataframe tbody tr th {\n        vertical-align: top;\n    }\n\n    .dataframe thead th {\n        text-align: right;\n    }\n</style>\n<table border=\"1\" class=\"dataframe\">\n  <thead>\n    <tr style=\"text-align: right;\">\n      <th></th>\n      <th></th>\n      <th>PTS</th>\n      <th>AST</th>\n      <th>STL</th>\n      <th>BLK</th>\n      <th>3P</th>\n      <th>Year</th>\n    </tr>\n    <tr>\n      <th>Year</th>\n      <th></th>\n      <th></th>\n      <th></th>\n      <th></th>\n      <th></th>\n      <th></th>\n      <th></th>\n    </tr>\n  </thead>\n  <tbody>\n    <tr>\n      <th rowspan=\"5\" valign=\"top\">1991</th>\n      <th>0</th>\n      <td>1.692601</td>\n      <td>2.010078</td>\n      <td>2.608773</td>\n      <td>1.346939</td>\n      <td>5.594452</td>\n      <td>1.0</td>\n    </tr>\n    <tr>\n      <th>1</th>\n      <td>2.884104</td>\n      <td>1.542618</td>\n      <td>2.059558</td>\n      <td>1.795918</td>\n      <td>5.085865</td>\n      <td>1.0</td>\n    </tr>\n    <tr>\n      <th>2</th>\n      <td>0.679268</td>\n      <td>0.327222</td>\n      <td>0.549215</td>\n      <td>0.673469</td>\n      <td>0.000000</td>\n      <td>1.0</td>\n    </tr>\n    <tr>\n      <th>3</th>\n      <td>0.055678</td>\n      <td>0.000000</td>\n      <td>0.000000</td>\n      <td>0.673469</td>\n      <td>0.000000</td>\n      <td>1.0</td>\n    </tr>\n    <tr>\n      <th>4</th>\n      <td>1.514433</td>\n      <td>1.262142</td>\n      <td>0.823823</td>\n      <td>0.224490</td>\n      <td>1.017173</td>\n      <td>1.0</td>\n    </tr>\n    <tr>\n      <th>...</th>\n      <th>...</th>\n      <td>...</td>\n      <td>...</td>\n      <td>...</td>\n      <td>...</td>\n      <td>...</td>\n      <td>...</td>\n    </tr>\n    <tr>\n      <th rowspan=\"5\" valign=\"top\">2023</th>\n      <th>15231</th>\n      <td>1.129221</td>\n      <td>2.561833</td>\n      <td>1.148205</td>\n      <td>0.523047</td>\n      <td>1.312418</td>\n      <td>1.0</td>\n    </tr>\n    <tr>\n      <th>15232</th>\n      <td>0.679725</td>\n      <td>0.821720</td>\n      <td>0.656117</td>\n      <td>0.261524</td>\n      <td>0.100955</td>\n      <td>1.0</td>\n    </tr>\n    <tr>\n      <th>15233</th>\n      <td>0.372752</td>\n      <td>0.338355</td>\n      <td>0.492088</td>\n      <td>0.523047</td>\n      <td>0.201910</td>\n      <td>1.0</td>\n    </tr>\n    <tr>\n      <th>15234</th>\n      <td>0.054817</td>\n      <td>0.145009</td>\n      <td>0.328058</td>\n      <td>0.523047</td>\n      <td>0.000000</td>\n      <td>1.0</td>\n    </tr>\n    <tr>\n      <th>15235</th>\n      <td>0.416606</td>\n      <td>0.290019</td>\n      <td>0.984175</td>\n      <td>1.046094</td>\n      <td>0.000000</td>\n      <td>1.0</td>\n    </tr>\n  </tbody>\n</table>\n<p>15236 rows × 6 columns</p>\n</div>"
     },
     "execution_count": 32,
     "metadata": {},
     "output_type": "execute_result"
    }
   ],
   "source": [
    "# Adding more predictors\n",
    "stat_ratios = stats[[\"PTS\", \"AST\", \"STL\", \"BLK\", \"3P\", \"Year\"]].groupby(\"Year\").apply(lambda x: x/x.mean())\n",
    "stat_ratios"
   ]
  }
 ],
 "metadata": {
  "kernelspec": {
   "display_name": "Python 3 (ipykernel)",
   "language": "python",
   "name": "python3"
  },
  "language_info": {
   "codemirror_mode": {
    "name": "ipython",
    "version": 3
   },
   "file_extension": ".py",
   "mimetype": "text/x-python",
   "name": "python",
   "nbconvert_exporter": "python",
   "pygments_lexer": "ipython3",
   "version": "3.11.3"
  }
 },
 "nbformat": 4,
 "nbformat_minor": 5
}
