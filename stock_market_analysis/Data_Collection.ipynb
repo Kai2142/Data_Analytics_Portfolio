{
 "cells": [
  {
   "metadata": {},
   "cell_type": "markdown",
   "source": "# Stock Market Analysis Project (NVDA, TSLA, JPM)",
   "id": "9a129a5d81e0c460"
  },
  {
   "metadata": {},
   "cell_type": "markdown",
   "source": [
    "Things we will explore:\n",
    "- Price Trends:\n",
    "    Analyze the historical price trends for each stock and compare them.\n",
    "- Volume Analysis: \n",
    "    Look at trading volumes over time and identify any patterns or anomalies.\n",
    "- Correlation Analysis: \n",
    "    Explore the correlation between the stock prices of NVDA, TSLA, and JPM.\n",
    "- Return Analysis:\n",
    "    Calculate and analyze daily, weekly, or monthly returns for each stock.\n",
    "- Volatility Measurement: \n",
    "    Calculate and compare the volatility of the stocks using metrics like standard deviation."
   ],
   "id": "fd7b31727135d30"
  },
  {
   "metadata": {},
   "cell_type": "markdown",
   "source": [
    "### Install Packages\n",
    "!pip install pandas_datareader dash yfinance"
   ],
   "id": "6eee2aaf64733879"
  },
  {
   "cell_type": "code",
   "id": "initial_id",
   "metadata": {
    "collapsed": true,
    "ExecuteTime": {
     "end_time": "2024-11-28T10:04:50.018212Z",
     "start_time": "2024-11-28T10:04:50.016454Z"
    }
   },
   "source": [
    "import pandas as pd\n",
    "import yfinance as yf\n",
    "import matplotlib.pyplot as plt"
   ],
   "outputs": [],
   "execution_count": 28
  },
  {
   "metadata": {
    "ExecuteTime": {
     "end_time": "2024-11-28T10:04:50.021885Z",
     "start_time": "2024-11-28T10:04:50.020008Z"
    }
   },
   "cell_type": "code",
   "source": [
    "nvda = yf.Ticker('NVDA')\n",
    "tsla = yf.Ticker('TSLA')\n",
    "jpm = yf.Ticker('JPM')"
   ],
   "id": "a2b69c9e4503d6ad",
   "outputs": [],
   "execution_count": 29
  },
  {
   "metadata": {
    "ExecuteTime": {
     "end_time": "2024-11-28T10:04:50.634178Z",
     "start_time": "2024-11-28T10:04:50.022729Z"
    }
   },
   "cell_type": "code",
   "source": [
    "hist_nvda = nvda.history(period='5y')\n",
    "hist_tsla = tsla.history(period='5y')\n",
    "hist_jpm = jpm.history(period='5y')"
   ],
   "id": "ec6352776842121d",
   "outputs": [],
   "execution_count": 30
  },
  {
   "metadata": {
    "ExecuteTime": {
     "end_time": "2024-11-28T10:04:50.639870Z",
     "start_time": "2024-11-28T10:04:50.635286Z"
    }
   },
   "cell_type": "code",
   "source": "df = pd.concat([hist_nvda['Close'], hist_tsla['Close'], hist_jpm['Close']], axis=1)",
   "id": "55ce2a9098476a90",
   "outputs": [],
   "execution_count": 31
  },
  {
   "metadata": {},
   "cell_type": "markdown",
   "source": "",
   "id": "73e714c7b9ed9e51"
  },
  {
   "metadata": {
    "ExecuteTime": {
     "end_time": "2024-11-28T10:04:50.675794Z",
     "start_time": "2024-11-28T10:04:50.640761Z"
    }
   },
   "cell_type": "code",
   "source": [
    "hist_nvda.to_csv('data/NVDA.csv')\n",
    "hist_tsla.to_csv('data/TSLA.csv')\n",
    "hist_jpm.to_csv('data/JPM.csv')\n",
    "df.to_csv('data/concat_close.csv')"
   ],
   "id": "cf5fef654b1a9f2a",
   "outputs": [],
   "execution_count": 32
  },
  {
   "metadata": {},
   "cell_type": "markdown",
   "source": "Plot Closing Price",
   "id": "b8b2288685d723b6"
  },
  {
   "metadata": {
    "ExecuteTime": {
     "end_time": "2024-11-28T10:30:00.140858Z",
     "start_time": "2024-11-28T10:30:00.138653Z"
    }
   },
   "cell_type": "code",
   "source": "",
   "id": "c238cb86e3d2f31b",
   "outputs": [],
   "execution_count": 49
  }
 ],
 "metadata": {
  "kernelspec": {
   "display_name": "Python 3",
   "language": "python",
   "name": "python3"
  },
  "language_info": {
   "codemirror_mode": {
    "name": "ipython",
    "version": 2
   },
   "file_extension": ".py",
   "mimetype": "text/x-python",
   "name": "python",
   "nbconvert_exporter": "python",
   "pygments_lexer": "ipython2",
   "version": "2.7.6"
  }
 },
 "nbformat": 4,
 "nbformat_minor": 5
}
