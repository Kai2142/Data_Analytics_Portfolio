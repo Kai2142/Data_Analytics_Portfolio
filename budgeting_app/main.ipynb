{
 "cells": [
  {
   "cell_type": "code",
   "id": "initial_id",
   "metadata": {
    "collapsed": true,
    "ExecuteTime": {
     "end_time": "2025-01-09T15:39:54.359097Z",
     "start_time": "2025-01-09T15:39:54.051184Z"
    }
   },
   "source": [
    "from utils import extract_text_from_pdf\n",
    "import re\n",
    "from tabulate import tabulate\n",
    "import pandas as pd"
   ],
   "outputs": [],
   "execution_count": 2
  },
  {
   "metadata": {
    "ExecuteTime": {
     "end_time": "2025-01-09T15:39:54.612701Z",
     "start_time": "2025-01-09T15:39:54.361992Z"
    }
   },
   "cell_type": "code",
   "source": "text = extract_text_from_pdf('/Users/kaiisfly/PycharmProjects/Data_Analytics_Portfolio/budgeting_app/e_statements/eStatementFile_20250107183121.pdf')",
   "id": "2c1fee80e57c0496",
   "outputs": [],
   "execution_count": 3
  },
  {
   "metadata": {
    "ExecuteTime": {
     "end_time": "2025-01-09T15:39:54.615576Z",
     "start_time": "2025-01-09T15:39:54.613180Z"
    }
   },
   "cell_type": "code",
   "source": [
    "# Define a regular expression pattern to match the date in the format DD MMM YYYY\n",
    "pattern = r\"\\b\\d{2} [A-Z]{3} \\d{4}\\b\"\n",
    "\n",
    "# Find the first match in the text using the pattern\n",
    "match = re.search(pattern, text) \n",
    "date = match.group() if match else None\n",
    "# \n",
    "month_map = {'JAN': '01', 'FEB': '02', 'MAR': '03', 'APR': '04', 'MAY': '05', 'JUN': '06', 'JUL': '07', 'AUG': '08', 'SEP': '09', 'OCT': '10', 'NOV': '11', 'DEC': '12'}\n",
    "\n",
    "if date:\n",
    "    day, month, year = date.split(' ')\n",
    "    month_numeric = month_map.get(month)\n",
    "    numeric_date = f'{day}-{month_numeric}-{year}'\n",
    "    print(numeric_date)\n",
    "    \n"
   ],
   "id": "88e62cdfdae0c0a8",
   "outputs": [
    {
     "name": "stdout",
     "output_type": "stream",
     "text": [
      "07-12-2024\n"
     ]
    }
   ],
   "execution_count": 4
  },
  {
   "metadata": {
    "ExecuteTime": {
     "end_time": "2025-01-09T15:39:54.617873Z",
     "start_time": "2025-01-09T15:39:54.616656Z"
    }
   },
   "cell_type": "code",
   "source": "",
   "id": "f74f110e198747e9",
   "outputs": [],
   "execution_count": 4
  },
  {
   "metadata": {
    "ExecuteTime": {
     "end_time": "2025-01-09T15:39:54.619975Z",
     "start_time": "2025-01-09T15:39:54.618550Z"
    }
   },
   "cell_type": "code",
   "source": "",
   "id": "8c80d83572f75c9a",
   "outputs": [],
   "execution_count": 4
  }
 ],
 "metadata": {
  "kernelspec": {
   "display_name": "Python 3",
   "language": "python",
   "name": "python3"
  },
  "language_info": {
   "codemirror_mode": {
    "name": "ipython",
    "version": 2
   },
   "file_extension": ".py",
   "mimetype": "text/x-python",
   "name": "python",
   "nbconvert_exporter": "python",
   "pygments_lexer": "ipython2",
   "version": "2.7.6"
  }
 },
 "nbformat": 4,
 "nbformat_minor": 5
}
