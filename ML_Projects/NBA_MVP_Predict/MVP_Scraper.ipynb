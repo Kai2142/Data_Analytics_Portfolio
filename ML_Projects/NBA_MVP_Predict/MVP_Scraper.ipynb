{
 "cells": [
  {
   "cell_type": "code",
   "id": "5f4b12db-6d3a-4f34-aa13-c3bfe6c4dbaa",
   "metadata": {
    "jupyter": {
     "is_executing": true
    },
    "ExecuteTime": {
     "start_time": "2024-07-22T09:24:01.391232Z"
    }
   },
   "source": [
    "import requests\n",
    "import os\n",
    "import pandas as pd\n",
    "from bs4 import BeautifulSoup\n",
    "import time\n",
    "import random\n",
    "\n",
    "# Create a directory to store the downloaded HTML files\n",
    "if not os.path.exists(\"mvp\"):\n",
    "    os.makedirs(\"mvp\")\n",
    "\n",
    "# Download the MVP voting results for each year from 1991 to 2021\n",
    "years = list(range(1991, 2024))\n",
    "url_start = \"https://www.basketball-reference.com/awards/awards_{}.html\"\n",
    "for year in years:\n",
    "    filename = \"mvp/{}.html\".format(year)\n",
    "    if os.path.exists(filename):\n",
    "        print(f\"{filename} already exists, skipping download\")\n",
    "    else:\n",
    "        url = url_start.format(year)\n",
    "        response = requests.get(url)\n",
    "        with open(filename, \"w+\", encoding=\"utf-8\") as f:\n",
    "            f.write(response.text)\n",
    "        print(f\"{filename} downloaded\")\n",
    "    time.sleep(random.randint(6, 10))\n",
    "\n",
    "# Extract the MVP voting results for each year and store them in a list of dataframes\n",
    "mvp_dataframes = []\n",
    "for year in years:\n",
    "    try:\n",
    "        with open(\"mvp/{}.html\".format(year), encoding=\"utf-8\") as f:\n",
    "            page = f.read()\n",
    "        soup = BeautifulSoup(page, \"html.parser\")\n",
    "        over_header = soup.find(\"tr\", class_=\"over_header\")\n",
    "        if over_header is not None:\n",
    "            over_header.decompose()\n",
    "        mvp_table = soup.find_all(id=\"mvp\")\n",
    "        if len(mvp_table) > 0:\n",
    "            mvp_table = mvp_table[0]\n",
    "            mvp_df = pd.read_html(str(mvp_table))[0]\n",
    "            mvp_df.insert(0, \"Year\", year)\n",
    "            mvp_dataframes.append(mvp_df)\n",
    "        else:\n",
    "            print(f\"No MVP voting results found for {year}\")\n",
    "    except Exception as e:\n",
    "        print(f\"Error processing {year}: {e}\")\n",
    "    time.sleep(random.randint(6, 10))\n",
    "\n",
    "# Combine all the dataframes into a single dataframe\n",
    "if len(mvp_dataframes) == 0:\n",
    "    print(\"No data to concatenate\")\n",
    "else:\n",
    "    mvp_df = pd.concat(mvp_dataframes, ignore_index=True)\n",
    "\n",
    "    # Convert columns to the correct data types\n",
    "    mvp_df[[\"Age\", \"Pts Won\", \"Pts Max\"]] = mvp_df[[\"Age\", \"Pts Won\", \"Pts Max\"]].apply(pd.to_numeric, errors=\"coerce\")\n",
    "    mvp_df[[\"Age\", \"Pts Won\", \"Pts Max\"]] = mvp_df[[\"Age\", \"Pts Won\", \"Pts Max\"]].astype(\"Int64\")\n",
    "    mvp_df[[\"G\", \"MP\", \"PTS\", \"TRB\", \"AST\", \"STL\", \"BLK\", \"FG%\", \"3P%\", \"FT%\", \"WS\"]] = mvp_df[[\"G\", \"MP\", \"PTS\", \"TRB\", \"AST\", \"STL\", \"BLK\", \"FG%\", \"3P%\", \"FT%\", \"WS\"]].astype(float)\n",
    "\n",
    "    # Save the cleaned data to a CSV file\n",
    "    mvp_df.to_csv(\"mvp_results.csv\", index=False)\n",
    "    \n",
    "    # Print the cleaned data\n",
    "    print(mvp_df)"
   ],
   "outputs": [
    {
     "name": "stdout",
     "output_type": "stream",
     "text": [
      "mvp/1991.html already exists, skipping download\n",
      "mvp/1992.html already exists, skipping download\n"
     ]
    }
   ],
   "execution_count": null
  },
  {
   "cell_type": "code",
   "execution_count": 1,
   "id": "2207f56a-576d-4c11-8822-2ebd5b2d8d41",
   "metadata": {
    "ExecuteTime": {
     "end_time": "2024-03-31T10:26:01.837368Z",
     "start_time": "2024-03-31T10:26:01.280025Z"
    }
   },
   "outputs": [],
   "source": [
    "import requests\n",
    "import os\n",
    "import shutil\n",
    "from bs4 import BeautifulSoup\n",
    "import pandas as pd"
   ]
  },
  {
   "cell_type": "code",
   "execution_count": 2,
   "id": "36d8eb58-b958-4bde-ab35-6d8355caff4f",
   "metadata": {
    "ExecuteTime": {
     "end_time": "2024-03-31T10:26:38.377362Z",
     "start_time": "2024-03-31T10:26:37.939324Z"
    }
   },
   "outputs": [
    {
     "ename": "FileNotFoundError",
     "evalue": "[Errno 2] No such file or directory: 'D:\\\\pythonProject\\\\ML_Project\\\\mvp\\\\1991.html'",
     "output_type": "error",
     "traceback": [
      "\u001B[1;31m---------------------------------------------------------------------------\u001B[0m",
      "\u001B[1;31mFileNotFoundError\u001B[0m                         Traceback (most recent call last)",
      "Cell \u001B[1;32mIn[2], line 1\u001B[0m\n\u001B[1;32m----> 1\u001B[0m \u001B[38;5;28;01mwith\u001B[39;00m \u001B[38;5;28;43mopen\u001B[39;49m\u001B[43m(\u001B[49m\u001B[38;5;124;43m\"\u001B[39;49m\u001B[38;5;124;43mD:\u001B[39;49m\u001B[38;5;130;43;01m\\\\\u001B[39;49;00m\u001B[38;5;124;43mpythonProject\u001B[39;49m\u001B[38;5;130;43;01m\\\\\u001B[39;49;00m\u001B[38;5;124;43mML_Project\u001B[39;49m\u001B[38;5;130;43;01m\\\\\u001B[39;49;00m\u001B[38;5;124;43mmvp\u001B[39;49m\u001B[38;5;130;43;01m\\\\\u001B[39;49;00m\u001B[38;5;124;43m1991.html\u001B[39;49m\u001B[38;5;124;43m\"\u001B[39;49m\u001B[43m,\u001B[49m\u001B[43m \u001B[49m\u001B[43mencoding\u001B[49m\u001B[38;5;241;43m=\u001B[39;49m\u001B[38;5;124;43m\"\u001B[39;49m\u001B[38;5;124;43miso-8859-1\u001B[39;49m\u001B[38;5;124;43m\"\u001B[39;49m\u001B[43m)\u001B[49m \u001B[38;5;28;01mas\u001B[39;00m f:\n\u001B[0;32m      2\u001B[0m     page \u001B[38;5;241m=\u001B[39m f\u001B[38;5;241m.\u001B[39mread()\n\u001B[0;32m      4\u001B[0m soup \u001B[38;5;241m=\u001B[39m BeautifulSoup(page, \u001B[38;5;124m'\u001B[39m\u001B[38;5;124mhtml.parser\u001B[39m\u001B[38;5;124m'\u001B[39m)\n",
      "File \u001B[1;32m~\\PycharmProjects\\NBA_MVP_Predict\\.venv\\Lib\\site-packages\\IPython\\core\\interactiveshell.py:324\u001B[0m, in \u001B[0;36m_modified_open\u001B[1;34m(file, *args, **kwargs)\u001B[0m\n\u001B[0;32m    317\u001B[0m \u001B[38;5;28;01mif\u001B[39;00m file \u001B[38;5;129;01min\u001B[39;00m {\u001B[38;5;241m0\u001B[39m, \u001B[38;5;241m1\u001B[39m, \u001B[38;5;241m2\u001B[39m}:\n\u001B[0;32m    318\u001B[0m     \u001B[38;5;28;01mraise\u001B[39;00m \u001B[38;5;167;01mValueError\u001B[39;00m(\n\u001B[0;32m    319\u001B[0m         \u001B[38;5;124mf\u001B[39m\u001B[38;5;124m\"\u001B[39m\u001B[38;5;124mIPython won\u001B[39m\u001B[38;5;124m'\u001B[39m\u001B[38;5;124mt let you open fd=\u001B[39m\u001B[38;5;132;01m{\u001B[39;00mfile\u001B[38;5;132;01m}\u001B[39;00m\u001B[38;5;124m by default \u001B[39m\u001B[38;5;124m\"\u001B[39m\n\u001B[0;32m    320\u001B[0m         \u001B[38;5;124m\"\u001B[39m\u001B[38;5;124mas it is likely to crash IPython. If you know what you are doing, \u001B[39m\u001B[38;5;124m\"\u001B[39m\n\u001B[0;32m    321\u001B[0m         \u001B[38;5;124m\"\u001B[39m\u001B[38;5;124myou can use builtins\u001B[39m\u001B[38;5;124m'\u001B[39m\u001B[38;5;124m open.\u001B[39m\u001B[38;5;124m\"\u001B[39m\n\u001B[0;32m    322\u001B[0m     )\n\u001B[1;32m--> 324\u001B[0m \u001B[38;5;28;01mreturn\u001B[39;00m \u001B[43mio_open\u001B[49m\u001B[43m(\u001B[49m\u001B[43mfile\u001B[49m\u001B[43m,\u001B[49m\u001B[43m \u001B[49m\u001B[38;5;241;43m*\u001B[39;49m\u001B[43margs\u001B[49m\u001B[43m,\u001B[49m\u001B[43m \u001B[49m\u001B[38;5;241;43m*\u001B[39;49m\u001B[38;5;241;43m*\u001B[39;49m\u001B[43mkwargs\u001B[49m\u001B[43m)\u001B[49m\n",
      "\u001B[1;31mFileNotFoundError\u001B[0m: [Errno 2] No such file or directory: 'D:\\\\pythonProject\\\\ML_Project\\\\mvp\\\\1991.html'"
     ]
    }
   ],
   "source": [
    "with open(\"D:\\\\pythonProject\\\\ML_Project\\\\mvp\\\\1991.html\", encoding=\"iso-8859-1\") as f:\n",
    "    page = f.read()\n",
    "\n",
    "soup = BeautifulSoup(page, 'html.parser')\n",
    "soup.find('tr', class_=\"over_header\").decompose()"
   ]
  },
  {
   "cell_type": "code",
   "execution_count": null,
   "id": "dea91eb7-8e20-4852-b8ee-499f5cb2b1af",
   "metadata": {
    "ExecuteTime": {
     "start_time": "2024-03-30T15:18:47.785867Z"
    }
   },
   "outputs": [],
   "source": [
    "mvp_table = soup.find_all(id=\"mvp\")[0]"
   ]
  },
  {
   "cell_type": "code",
   "execution_count": null,
   "id": "269786e3-711c-4b2e-a029-712c68e0f29a",
   "metadata": {},
   "outputs": [],
   "source": [
    "mvp_1991 = pd.read_html(str(mvp_table))[0]"
   ]
  },
  {
   "cell_type": "code",
   "execution_count": null,
   "id": "7cd7aa81-7286-4a72-9d9e-22a46639ba4b",
   "metadata": {
    "ExecuteTime": {
     "start_time": "2024-03-30T15:18:47.787377Z"
    }
   },
   "outputs": [],
   "source": [
    "mvp_1991.head(1)"
   ]
  },
  {
   "cell_type": "code",
   "execution_count": null,
   "id": "34e80562-88dd-4aad-8550-c81da012d2b1",
   "metadata": {},
   "outputs": [],
   "source": [
    "mvp_1991[\"Year\"] = 1991"
   ]
  },
  {
   "cell_type": "code",
   "execution_count": null,
   "id": "85874ca5-d862-4aa4-b8c9-560e450fefc6",
   "metadata": {
    "ExecuteTime": {
     "start_time": "2024-03-30T15:18:47.789382Z"
    }
   },
   "outputs": [],
   "source": [
    "mvp_1991.head()"
   ]
  },
  {
   "cell_type": "code",
   "execution_count": null,
   "id": "af5df6a7-1bc9-4a85-b395-7a3b7c103339",
   "metadata": {
    "ExecuteTime": {
     "start_time": "2024-03-30T15:18:47.790387Z"
    }
   },
   "outputs": [],
   "source": [
    "dfs = []\n",
    "for year in years:\n",
    "    with open(\"D:\\\\pythonProject\\\\ML_Project\\\\mvp\\\\{}.html\".format(year), encoding='iso-8859-1') as f:\n",
    "        page = f.read()\n",
    "    \n",
    "    soup = BeautifulSoup(page, 'html.parser')\n",
    "    soup.find('tr', class_=\"over_header\").decompose()\n",
    "    \n",
    "    mvp_table = soup.find_all(id=\"mvp\")[0]\n",
    "    mvp_df = pd.read_html(str(mvp_table))[0]\n",
    "    mvp_df[\"Year\"] = year\n",
    "    \n",
    "    dfs.append(mvp_df)"
   ]
  },
  {
   "cell_type": "code",
   "execution_count": null,
   "id": "af9beb2d-7a70-4d16-8445-f700ca1fcddc",
   "metadata": {
    "ExecuteTime": {
     "start_time": "2024-03-30T15:18:47.791388Z"
    }
   },
   "outputs": [],
   "source": [
    "mvps = pd.concat(dfs)\n",
    "\n",
    "mvps.head()"
   ]
  },
  {
   "cell_type": "code",
   "execution_count": null,
   "id": "1b93ad88-8a94-4a5a-a4e9-8ccb87239c48",
   "metadata": {
    "ExecuteTime": {
     "start_time": "2024-03-30T15:18:47.792388Z"
    }
   },
   "outputs": [],
   "source": [
    "mvps.to_csv(\"mvps.csv\")"
   ]
  },
  {
   "cell_type": "code",
   "execution_count": null,
   "id": "a2204d64-03ab-47d3-9e35-516d8690178f",
   "metadata": {
    "ExecuteTime": {
     "start_time": "2024-03-30T15:18:47.793387Z"
    }
   },
   "outputs": [],
   "source": []
  }
 ],
 "metadata": {
  "kernelspec": {
   "display_name": "Python 3 (ipykernel)",
   "language": "python",
   "name": "python3"
  },
  "language_info": {
   "codemirror_mode": {
    "name": "ipython",
    "version": 3
   },
   "file_extension": ".py",
   "mimetype": "text/x-python",
   "name": "python",
   "nbconvert_exporter": "python",
   "pygments_lexer": "ipython3",
   "version": "3.11.3"
  }
 },
 "nbformat": 4,
 "nbformat_minor": 5
}
