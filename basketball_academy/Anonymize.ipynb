{
 "cells": [
  {
   "cell_type": "code",
   "id": "c9927cae-70c5-41d7-8689-fae738d8ec23",
   "metadata": {
    "ExecuteTime": {
     "end_time": "2024-10-25T05:23:06.307504Z",
     "start_time": "2024-10-25T05:23:06.305738Z"
    }
   },
   "source": [
    "import pandas as pd\n",
    "from utils import generate_student_id"
   ],
   "outputs": [],
   "execution_count": 1
  },
  {
   "cell_type": "markdown",
   "id": "057cc749-b730-4707-84b6-6f15e33bc89f",
   "metadata": {},
   "source": [
    "Lets load the "
   ]
  },
  {
   "cell_type": "code",
   "id": "c5fe789e-d40b-42ef-bc7c-1cdd982ec9ea",
   "metadata": {
    "ExecuteTime": {
     "end_time": "2024-10-25T05:23:06.315076Z",
     "start_time": "2024-10-25T05:23:06.308705Z"
    }
   },
   "source": [
    "df = pd.read_csv(\"data/Raw_Camp_Data.csv\")"
   ],
   "outputs": [],
   "execution_count": 2
  },
  {
   "cell_type": "markdown",
   "id": "2b239586-674b-4781-b623-c38e7b693048",
   "metadata": {},
   "source": [
    "Remove unecessary rows"
   ]
  },
  {
   "cell_type": "code",
   "id": "90a323a5-9c79-4a18-b6a4-37304944e40d",
   "metadata": {
    "ExecuteTime": {
     "end_time": "2024-10-25T05:23:06.317727Z",
     "start_time": "2024-10-25T05:23:06.315559Z"
    }
   },
   "source": [
    "df = df.drop(df.index[34:])"
   ],
   "outputs": [],
   "execution_count": 3
  },
  {
   "cell_type": "markdown",
   "id": "488ec8b3-cfda-43dd-91e5-cf54dbefa8f7",
   "metadata": {},
   "source": [
    "The column names are quite long, lets change that by mapping the orignal column name to our desired column name using a dictionary. We then use the *rename* method in pandas to change the dataframes column names"
   ]
  },
  {
   "cell_type": "code",
   "id": "e3da633a-5e94-44ee-bc86-6ec97d289743",
   "metadata": {
    "ExecuteTime": {
     "end_time": "2024-10-25T05:23:06.320775Z",
     "start_time": "2024-10-25T05:23:06.318309Z"
    }
   },
   "source": [
    "column_mapping = {\n",
    "    \"Name of Participant (First Name, Last Name)\": \"Full Name\",\n",
    "    \"Nick Name\": \"Nickname\",\n",
    "    \"Payment\": \"Payment Received\",\n",
    "    \"School Attending\": \"School\",\n",
    "    \"Main Contact e-mail address\": \"Main Contact E-Mail\",\n",
    "    \"Main Contact phone number\": \"Main Contact Number\",\n",
    "    \"Optional Second e-mail address\": \"Secondary E-Mail\",\n",
    "    \"Choose your group\": \"Age Group\",\n",
    "    \"Optional Second phone number\": \"Secondary Phone Number\",\n",
    "    \"Thank your for signing up, please add any comments you would like us to know about.\": \"Additional Comments\",\n",
    "    \"I, the parent or guardian of the player named above, acknowledge that when my child is playing/participating/performing basketball activities s/he may suffer injury. I release Top Flight Basketball Co. Ltd from any liability concerning any injury or harm suffered by my child during or as a consequence of participation in the activities.\": \"Injury Liability Waver\",\n",
    "    \"I, the parent or legal guardian of the child named above grant Top Flight basketball Co. Ltd my permission to use the photographs taken at basketball sessions for any legal use, including but not limited to: publicity, copyright purposes, illustration, advertising, and web content. Furthermore, I understand that no royalty, fee or other compensation shall become payable to me by reason of such use.\": \"Photograph Release Agreement\",\n",
    "    \"Once booking made payments can be made to the following bank account: Top Flight Basketball Company Limited - HSBC – 023-697444-838. Please send us proof of payment to INFO@TOPFLIGHTHONGKONG.COM with your child's name indicated.\": \"Payment Instruction Acknowledgement\"\n",
    "}\n",
    "\n",
    "df.rename(columns=column_mapping, inplace=True)"
   ],
   "outputs": [],
   "execution_count": 4
  },
  {
   "cell_type": "code",
   "id": "3d4b5e9a-0aa7-4b99-8877-f3a6bec652dc",
   "metadata": {
    "ExecuteTime": {
     "end_time": "2024-10-25T05:23:06.322923Z",
     "start_time": "2024-10-25T05:23:06.321400Z"
    }
   },
   "source": [
    "# df.head()"
   ],
   "outputs": [],
   "execution_count": 5
  },
  {
   "cell_type": "markdown",
   "id": "5febd86d-c242-4651-b221-da31e69254ac",
   "metadata": {},
   "source": [
    "Lets remove anything that would give away the identity of our customers or columns we dont need. This would include columns such as \"Email Address\", \"Nickname\", \"Main Contact Number\", \"Secondary Phone Number\", \"Main Contact E-Mail\", \"Age Group\" and  \"Secondary E-Mail\". *We will not include \"Full Name\" as we will need it for the student id.*"
   ]
  },
  {
   "cell_type": "code",
   "id": "2bac05ec-541a-4c1b-b1ec-e869dc727fc4",
   "metadata": {
    "ExecuteTime": {
     "end_time": "2024-10-25T05:23:06.327615Z",
     "start_time": "2024-10-25T05:23:06.323283Z"
    }
   },
   "source": [
    "id_cols_remove = [\"Email Address\", \"Main Contact Number\", \"Main Contact E-Mail\", \"Secondary E-Mail\", \"Nickname\", \"Secondary Phone Number\", \"Age Group\"]\n",
    "[df.drop(x, axis=1, inplace=True) for x in id_cols_remove]"
   ],
   "outputs": [
    {
     "data": {
      "text/plain": [
       "[None, None, None, None, None, None, None]"
      ]
     },
     "execution_count": 6,
     "metadata": {},
     "output_type": "execute_result"
    }
   ],
   "execution_count": 6
  },
  {
   "cell_type": "code",
   "id": "d1c98c5a-7070-438b-809a-0138e6cbc8d9",
   "metadata": {
    "ExecuteTime": {
     "end_time": "2024-10-25T05:23:06.330501Z",
     "start_time": "2024-10-25T05:23:06.329141Z"
    }
   },
   "source": [
    "# df"
   ],
   "outputs": [],
   "execution_count": 7
  },
  {
   "cell_type": "markdown",
   "id": "9e868cbdcf8f6f0c",
   "metadata": {},
   "source": [
    "After Skimming, I noticed some missing information. Two names are missing, lets fill them in row 32 and 33. They also attended every class, and are male. There are also four students missing information, lets add that information."
   ]
  },
  {
   "cell_type": "code",
   "id": "6df64597-90d9-41e3-adf2-5b6a01ac9fd0",
   "metadata": {
    "ExecuteTime": {
     "end_time": "2024-10-25T05:23:06.334449Z",
     "start_time": "2024-10-25T05:23:06.330925Z"
    }
   },
   "source": [
    "# Change misspelling in row 31 and Fill in Names at row 32 and 33 (Names are made up here)\n",
    "df.at[31,'Full Name'] = 'Callum Wong'\n",
    "df.at[32, 'Full Name'] = 'Anson Amande'\n",
    "df.at[33, 'Full Name'] = 'Atlas Amande'\n",
    "# Parent filled in two names, but only one of them attended\n",
    "df.at[15, 'Full Name'] = 'George Tilton'\n",
    "# Fill in Attendance at row 32 and 33 from Aug 19 - Aug 23\n",
    "df.iloc[32, 2:7] = 'TRUE'\n",
    "df.iloc[33, 2:7] = 'TRUE'\n",
    "# Fill in Gender at row 32 and 33.\n",
    "df.at[32, 'Gender'] = 'Male'\n",
    "df.at[33, 'Gender'] = 'Male'\n",
    "# Fill in missing Date of Birth for row 30:34\n",
    "df.at[30,'Date of Birth'] = '1/1/2017'\n",
    "df.at[31,'Date of Birth'] = '1/1/2017'\n",
    "df.at[32,'Date of Birth'] = '10/14/2009'\n",
    "df.at[33,'Date of Birth'] = '5/31/2008'\n",
    "# Fill in missing Ages for row 30:34\n",
    "df.at[30,'Age'] = '9'\n",
    "df.at[31,'Age'] = '14'\n",
    "df.at[32,'Age'] = '14'\n",
    "df.at[33,'Age'] = '16'\n",
    "# Fill in missing Schools\n",
    "df.at[30,'School'] = 'Unknown'\n",
    "df.at[31,'School'] = 'Canadian International School'\n",
    "df.at[32,'School'] = 'DSC'\n",
    "df.at[33,'School'] = 'DSC'\n",
    "\n",
    "# df"
   ],
   "outputs": [],
   "execution_count": 8
  },
  {
   "cell_type": "code",
   "id": "233c200c5a71702c",
   "metadata": {
    "ExecuteTime": {
     "end_time": "2024-10-25T05:23:06.336734Z",
     "start_time": "2024-10-25T05:23:06.334882Z"
    }
   },
   "source": [
    "school_mappings = {\n",
    "    \"DSC İnternational School\": \"DSC International School\",\n",
    "    \"DSC\": \"DSC International School\",\n",
    "    \"Dsc International School\": \"DSC International School\",\n",
    "    \"ESF Island School\": \"ESF Island School\",\n",
    "    \"Esf South Island School\": \"ESF South Island School\",\n",
    "    \"South Island School\": \"ESF South Island School\",\n",
    "    \"HKIS\": \"Hong Kong International School\",\n",
    "    \"Hkis\": \"Hong Kong International School\",\n",
    "    \"IMS\": \"International Montessori School\",\n",
    "    \"Silvermine bay school\": \"Silvermine Bay School\",\n",
    "    \"French International School\": \"French International School\",\n",
    "    \"Victoria Shanghai Academy\": \"Victoria Shanghai Academy\",\n",
    "    \"Hong Kong Harrow International School\": \"Harrow International School\",\n",
    "    \"The ISF School\": \"ISF Academy\",\n",
    "    \"CDNIS\": \"Canadian International School\",\n",
    "    \"YMCA Christian Academy\": \"YMCA Christian Academy\",\n",
    "    \"Chinese International School\": \"Chinese International School\",\n",
    "    \"CIS\": \"Chinese International School\",\n",
    "    \"Kellett\": \"Kellett School\",\n",
    "    \"ESF SIS\": \"ESF South Island School\",\n",
    "    \"Harrow School\": \"Harrow International School\",\n",
    "    \"SJPS\": \"St. Joseph's Primary School\",\n",
    "    \"AISHK\": \"Australian International School\",\n",
    "    \"Australian International School\": \"Australian International School\"\n",
    "}"
   ],
   "outputs": [],
   "execution_count": 9
  },
  {
   "cell_type": "code",
   "id": "956aaa70dca40562",
   "metadata": {
    "ExecuteTime": {
     "end_time": "2024-10-25T05:23:06.339160Z",
     "start_time": "2024-10-25T05:23:06.337199Z"
    }
   },
   "source": [
    "def standardize_school_name(school_name):\n",
    "    return school_mappings.get(school_name.strip(), school_name)\n",
    "\n",
    "df['School'] = df['School'].apply(standardize_school_name)"
   ],
   "outputs": [],
   "execution_count": 10
  },
  {
   "cell_type": "code",
   "id": "659f15d7f73ba84d",
   "metadata": {
    "ExecuteTime": {
     "end_time": "2024-10-25T05:23:06.341567Z",
     "start_time": "2024-10-25T05:23:06.339619Z"
    }
   },
   "source": [
    "df['School'] = df['School'].apply(lambda x: ' '.join(word if word.upper() == 'ESF' else word.title() for word in x.split()))"
   ],
   "outputs": [],
   "execution_count": 11
  },
  {
   "cell_type": "code",
   "id": "3e5803c36fe2e785",
   "metadata": {
    "ExecuteTime": {
     "end_time": "2024-10-25T05:23:06.343443Z",
     "start_time": "2024-10-25T05:23:06.341996Z"
    }
   },
   "source": [
    "# df"
   ],
   "outputs": [],
   "execution_count": 12
  },
  {
   "cell_type": "markdown",
   "id": "31de211129477716",
   "metadata": {},
   "source": [
    "Lets create the student ID. We will use the Initials of First, Middle and Last Names followed by a hyphen (\"-\"), then the Year and Month of their date of birth (YYYYMM), and their Gender (Female = 0 and Male = 1) For example: Scott Matthew Summers 1977/09/22 Male = SMS-197709-01"
   ]
  },
  {
   "cell_type": "code",
   "id": "61a0a89c5b82d392",
   "metadata": {
    "ExecuteTime": {
     "end_time": "2024-10-25T05:23:06.345860Z",
     "start_time": "2024-10-25T05:23:06.344274Z"
    }
   },
   "source": [
    "student_id_cols = df[[\"Full Name\", \"Date of Birth\", \"Gender\"]]\n",
    "# student_id_cols"
   ],
   "outputs": [],
   "execution_count": 13
  },
  {
   "cell_type": "markdown",
   "id": "95c7f9b34ccfa144",
   "metadata": {},
   "source": [
    "I will create a function *create_student_id* in my *utils.py* script"
   ]
  },
  {
   "cell_type": "code",
   "id": "f584b3f9ce459944",
   "metadata": {
    "ExecuteTime": {
     "end_time": "2024-10-25T05:23:06.352876Z",
     "start_time": "2024-10-25T05:23:06.346221Z"
    }
   },
   "source": [
    "student_id_cols[\"Student ID\"] = df.apply(generate_student_id, axis=1)"
   ],
   "outputs": [
    {
     "name": "stderr",
     "output_type": "stream",
     "text": [
      "/var/folders/k8/54zwc4911p16cz5tw9zrk4vh0000gn/T/ipykernel_3237/4253707720.py:1: SettingWithCopyWarning: \n",
      "A value is trying to be set on a copy of a slice from a DataFrame.\n",
      "Try using .loc[row_indexer,col_indexer] = value instead\n",
      "\n",
      "See the caveats in the documentation: https://pandas.pydata.org/pandas-docs/stable/user_guide/indexing.html#returning-a-view-versus-a-copy\n",
      "  student_id_cols[\"Student ID\"] = df.apply(generate_student_id, axis=1)\n"
     ]
    }
   ],
   "execution_count": 14
  },
  {
   "cell_type": "code",
   "id": "c4a9df3bd6c48d97",
   "metadata": {
    "ExecuteTime": {
     "end_time": "2024-10-25T05:23:06.355939Z",
     "start_time": "2024-10-25T05:23:06.353830Z"
    }
   },
   "source": [
    "student_id_cols.drop([\"Full Name\"], axis=1, inplace=True)"
   ],
   "outputs": [
    {
     "name": "stderr",
     "output_type": "stream",
     "text": [
      "/var/folders/k8/54zwc4911p16cz5tw9zrk4vh0000gn/T/ipykernel_3237/2210988512.py:1: SettingWithCopyWarning: \n",
      "A value is trying to be set on a copy of a slice from a DataFrame\n",
      "\n",
      "See the caveats in the documentation: https://pandas.pydata.org/pandas-docs/stable/user_guide/indexing.html#returning-a-view-versus-a-copy\n",
      "  student_id_cols.drop([\"Full Name\"], axis=1, inplace=True)\n"
     ]
    }
   ],
   "execution_count": 15
  },
  {
   "cell_type": "code",
   "id": "697e2be6d4f4293d",
   "metadata": {
    "ExecuteTime": {
     "end_time": "2024-10-25T05:23:06.361112Z",
     "start_time": "2024-10-25T05:23:06.356382Z"
    }
   },
   "source": [
    "student_id_cols"
   ],
   "outputs": [
    {
     "data": {
      "text/plain": [
       "   Date of Birth  Gender    Student ID\n",
       "0     12/22/2011  Female   DK-201112-0\n",
       "1      4/26/2012    Male   DC-201204-1\n",
       "2      9/12/2012    Male   JC-201209-1\n",
       "3      4/10/2012    Male   EC-201204-1\n",
       "4     10/27/2014    Male   EC-201410-1\n",
       "5      8/22/2015    Male   LM-201508-1\n",
       "6     10/17/2014    Male   AL-201410-1\n",
       "7       6/7/2013    Male   AJ-201306-1\n",
       "8       4/3/2012    Male  RJL-201204-1\n",
       "9      9/19/2017    Male  LVH-201709-1\n",
       "10     2/27/2016    Male   TT-201602-1\n",
       "11     5/19/2017    Male   CC-201705-1\n",
       "12     11/2/2018    Male   NL-201811-1\n",
       "13     3/11/2013    Male   CL-201303-1\n",
       "14      6/6/2014    Male   SK-201406-1\n",
       "15     8/21/2011    Male   GT-201108-1\n",
       "16     6/19/2011    Male   CC-201106-1\n",
       "17      2/1/2013    Male   CH-201302-1\n",
       "18     4/21/2010    Male   TD-201004-1\n",
       "19     9/20/2011    Male   BH-201109-1\n",
       "20     3/23/2016    Male   JZ-201603-1\n",
       "21      8/5/2010    Male   ZF-201008-1\n",
       "22      7/9/2012  Female  TAJ-201207-0\n",
       "23     5/13/2008    Male   WL-200805-1\n",
       "24     6/11/2018    Male   LL-201806-1\n",
       "25    12/17/2012    Male   BY-201212-1\n",
       "26     8/31/2015  Female   MY-201508-0\n",
       "27    10/13/2015    Male   KW-201510-1\n",
       "28     9/24/2010    Male   CC-201009-1\n",
       "29      4/8/2018  Female   MK-201804-0\n",
       "30      1/1/2017    Male  OGB-201701-1\n",
       "31      1/1/2017    Male   CW-201701-1\n",
       "32    10/14/2009    Male   AA-200910-1\n",
       "33     5/31/2008    Male   AA-200805-1"
      ],
      "text/html": [
       "<div>\n",
       "<style scoped>\n",
       "    .dataframe tbody tr th:only-of-type {\n",
       "        vertical-align: middle;\n",
       "    }\n",
       "\n",
       "    .dataframe tbody tr th {\n",
       "        vertical-align: top;\n",
       "    }\n",
       "\n",
       "    .dataframe thead th {\n",
       "        text-align: right;\n",
       "    }\n",
       "</style>\n",
       "<table border=\"1\" class=\"dataframe\">\n",
       "  <thead>\n",
       "    <tr style=\"text-align: right;\">\n",
       "      <th></th>\n",
       "      <th>Date of Birth</th>\n",
       "      <th>Gender</th>\n",
       "      <th>Student ID</th>\n",
       "    </tr>\n",
       "  </thead>\n",
       "  <tbody>\n",
       "    <tr>\n",
       "      <th>0</th>\n",
       "      <td>12/22/2011</td>\n",
       "      <td>Female</td>\n",
       "      <td>DK-201112-0</td>\n",
       "    </tr>\n",
       "    <tr>\n",
       "      <th>1</th>\n",
       "      <td>4/26/2012</td>\n",
       "      <td>Male</td>\n",
       "      <td>DC-201204-1</td>\n",
       "    </tr>\n",
       "    <tr>\n",
       "      <th>2</th>\n",
       "      <td>9/12/2012</td>\n",
       "      <td>Male</td>\n",
       "      <td>JC-201209-1</td>\n",
       "    </tr>\n",
       "    <tr>\n",
       "      <th>3</th>\n",
       "      <td>4/10/2012</td>\n",
       "      <td>Male</td>\n",
       "      <td>EC-201204-1</td>\n",
       "    </tr>\n",
       "    <tr>\n",
       "      <th>4</th>\n",
       "      <td>10/27/2014</td>\n",
       "      <td>Male</td>\n",
       "      <td>EC-201410-1</td>\n",
       "    </tr>\n",
       "    <tr>\n",
       "      <th>5</th>\n",
       "      <td>8/22/2015</td>\n",
       "      <td>Male</td>\n",
       "      <td>LM-201508-1</td>\n",
       "    </tr>\n",
       "    <tr>\n",
       "      <th>6</th>\n",
       "      <td>10/17/2014</td>\n",
       "      <td>Male</td>\n",
       "      <td>AL-201410-1</td>\n",
       "    </tr>\n",
       "    <tr>\n",
       "      <th>7</th>\n",
       "      <td>6/7/2013</td>\n",
       "      <td>Male</td>\n",
       "      <td>AJ-201306-1</td>\n",
       "    </tr>\n",
       "    <tr>\n",
       "      <th>8</th>\n",
       "      <td>4/3/2012</td>\n",
       "      <td>Male</td>\n",
       "      <td>RJL-201204-1</td>\n",
       "    </tr>\n",
       "    <tr>\n",
       "      <th>9</th>\n",
       "      <td>9/19/2017</td>\n",
       "      <td>Male</td>\n",
       "      <td>LVH-201709-1</td>\n",
       "    </tr>\n",
       "    <tr>\n",
       "      <th>10</th>\n",
       "      <td>2/27/2016</td>\n",
       "      <td>Male</td>\n",
       "      <td>TT-201602-1</td>\n",
       "    </tr>\n",
       "    <tr>\n",
       "      <th>11</th>\n",
       "      <td>5/19/2017</td>\n",
       "      <td>Male</td>\n",
       "      <td>CC-201705-1</td>\n",
       "    </tr>\n",
       "    <tr>\n",
       "      <th>12</th>\n",
       "      <td>11/2/2018</td>\n",
       "      <td>Male</td>\n",
       "      <td>NL-201811-1</td>\n",
       "    </tr>\n",
       "    <tr>\n",
       "      <th>13</th>\n",
       "      <td>3/11/2013</td>\n",
       "      <td>Male</td>\n",
       "      <td>CL-201303-1</td>\n",
       "    </tr>\n",
       "    <tr>\n",
       "      <th>14</th>\n",
       "      <td>6/6/2014</td>\n",
       "      <td>Male</td>\n",
       "      <td>SK-201406-1</td>\n",
       "    </tr>\n",
       "    <tr>\n",
       "      <th>15</th>\n",
       "      <td>8/21/2011</td>\n",
       "      <td>Male</td>\n",
       "      <td>GT-201108-1</td>\n",
       "    </tr>\n",
       "    <tr>\n",
       "      <th>16</th>\n",
       "      <td>6/19/2011</td>\n",
       "      <td>Male</td>\n",
       "      <td>CC-201106-1</td>\n",
       "    </tr>\n",
       "    <tr>\n",
       "      <th>17</th>\n",
       "      <td>2/1/2013</td>\n",
       "      <td>Male</td>\n",
       "      <td>CH-201302-1</td>\n",
       "    </tr>\n",
       "    <tr>\n",
       "      <th>18</th>\n",
       "      <td>4/21/2010</td>\n",
       "      <td>Male</td>\n",
       "      <td>TD-201004-1</td>\n",
       "    </tr>\n",
       "    <tr>\n",
       "      <th>19</th>\n",
       "      <td>9/20/2011</td>\n",
       "      <td>Male</td>\n",
       "      <td>BH-201109-1</td>\n",
       "    </tr>\n",
       "    <tr>\n",
       "      <th>20</th>\n",
       "      <td>3/23/2016</td>\n",
       "      <td>Male</td>\n",
       "      <td>JZ-201603-1</td>\n",
       "    </tr>\n",
       "    <tr>\n",
       "      <th>21</th>\n",
       "      <td>8/5/2010</td>\n",
       "      <td>Male</td>\n",
       "      <td>ZF-201008-1</td>\n",
       "    </tr>\n",
       "    <tr>\n",
       "      <th>22</th>\n",
       "      <td>7/9/2012</td>\n",
       "      <td>Female</td>\n",
       "      <td>TAJ-201207-0</td>\n",
       "    </tr>\n",
       "    <tr>\n",
       "      <th>23</th>\n",
       "      <td>5/13/2008</td>\n",
       "      <td>Male</td>\n",
       "      <td>WL-200805-1</td>\n",
       "    </tr>\n",
       "    <tr>\n",
       "      <th>24</th>\n",
       "      <td>6/11/2018</td>\n",
       "      <td>Male</td>\n",
       "      <td>LL-201806-1</td>\n",
       "    </tr>\n",
       "    <tr>\n",
       "      <th>25</th>\n",
       "      <td>12/17/2012</td>\n",
       "      <td>Male</td>\n",
       "      <td>BY-201212-1</td>\n",
       "    </tr>\n",
       "    <tr>\n",
       "      <th>26</th>\n",
       "      <td>8/31/2015</td>\n",
       "      <td>Female</td>\n",
       "      <td>MY-201508-0</td>\n",
       "    </tr>\n",
       "    <tr>\n",
       "      <th>27</th>\n",
       "      <td>10/13/2015</td>\n",
       "      <td>Male</td>\n",
       "      <td>KW-201510-1</td>\n",
       "    </tr>\n",
       "    <tr>\n",
       "      <th>28</th>\n",
       "      <td>9/24/2010</td>\n",
       "      <td>Male</td>\n",
       "      <td>CC-201009-1</td>\n",
       "    </tr>\n",
       "    <tr>\n",
       "      <th>29</th>\n",
       "      <td>4/8/2018</td>\n",
       "      <td>Female</td>\n",
       "      <td>MK-201804-0</td>\n",
       "    </tr>\n",
       "    <tr>\n",
       "      <th>30</th>\n",
       "      <td>1/1/2017</td>\n",
       "      <td>Male</td>\n",
       "      <td>OGB-201701-1</td>\n",
       "    </tr>\n",
       "    <tr>\n",
       "      <th>31</th>\n",
       "      <td>1/1/2017</td>\n",
       "      <td>Male</td>\n",
       "      <td>CW-201701-1</td>\n",
       "    </tr>\n",
       "    <tr>\n",
       "      <th>32</th>\n",
       "      <td>10/14/2009</td>\n",
       "      <td>Male</td>\n",
       "      <td>AA-200910-1</td>\n",
       "    </tr>\n",
       "    <tr>\n",
       "      <th>33</th>\n",
       "      <td>5/31/2008</td>\n",
       "      <td>Male</td>\n",
       "      <td>AA-200805-1</td>\n",
       "    </tr>\n",
       "  </tbody>\n",
       "</table>\n",
       "</div>"
      ]
     },
     "execution_count": 16,
     "metadata": {},
     "output_type": "execute_result"
    }
   ],
   "execution_count": 16
  },
  {
   "cell_type": "code",
   "id": "d68512f777d42088",
   "metadata": {
    "ExecuteTime": {
     "end_time": "2024-10-25T05:23:06.363152Z",
     "start_time": "2024-10-25T05:23:06.361627Z"
    }
   },
   "source": [
    "df[\"Student ID\"] = student_id_cols[\"Student ID\"]\n",
    "# df"
   ],
   "outputs": [],
   "execution_count": 17
  },
  {
   "cell_type": "markdown",
   "id": "5bdde57e3d838845",
   "metadata": {},
   "source": [
    "We want Student ID in the 2nd column, lets change that"
   ]
  },
  {
   "cell_type": "code",
   "id": "ec1702cd4964107",
   "metadata": {
    "ExecuteTime": {
     "end_time": "2024-10-25T05:23:06.366124Z",
     "start_time": "2024-10-25T05:23:06.364141Z"
    }
   },
   "source": [
    "cols = list(df.columns)\n",
    "cols.insert(1, cols.pop(cols.index('Student ID')))\n",
    "df = df[cols]"
   ],
   "outputs": [],
   "execution_count": 18
  },
  {
   "cell_type": "markdown",
   "id": "1167e652e783884c",
   "metadata": {},
   "source": [
    "Now lets remove the Full Name column as we do not need it anymore"
   ]
  },
  {
   "cell_type": "code",
   "id": "5945322e6b4fd934",
   "metadata": {
    "ExecuteTime": {
     "end_time": "2024-10-25T05:23:06.368729Z",
     "start_time": "2024-10-25T05:23:06.366692Z"
    }
   },
   "source": [
    "df.drop(\"Full Name\",axis=1, inplace=True)\n",
    "df.drop(\"Additional Comments\", axis=1, inplace=True)"
   ],
   "outputs": [],
   "execution_count": 19
  },
  {
   "cell_type": "code",
   "id": "823d378fac038ec8",
   "metadata": {
    "ExecuteTime": {
     "end_time": "2024-10-25T05:23:06.373430Z",
     "start_time": "2024-10-25T05:23:06.369354Z"
    }
   },
   "source": [
    "df.to_csv('data/Anonymized_Data.csv', encoding=\"utf-8\", index=False)"
   ],
   "outputs": [],
   "execution_count": 20
  }
 ],
 "metadata": {
  "kernelspec": {
   "display_name": "Python 3 (ipykernel)",
   "language": "python",
   "name": "python3"
  },
  "language_info": {
   "codemirror_mode": {
    "name": "ipython",
    "version": 3
   },
   "file_extension": ".py",
   "mimetype": "text/x-python",
   "name": "python",
   "nbconvert_exporter": "python",
   "pygments_lexer": "ipython3",
   "version": "3.12.4"
  }
 },
 "nbformat": 4,
 "nbformat_minor": 5
}
