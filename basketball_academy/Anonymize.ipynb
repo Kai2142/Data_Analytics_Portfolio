{
 "cells": [
  {
   "cell_type": "code",
   "execution_count": 1,
   "id": "c9927cae-70c5-41d7-8689-fae738d8ec23",
   "metadata": {
    "ExecuteTime": {
     "end_time": "2024-10-25T05:23:06.307504Z",
     "start_time": "2024-10-25T05:23:06.305738Z"
    }
   },
   "outputs": [],
   "source": [
    "import pandas as pd\n",
    "from utils import generate_student_id"
   ]
  },
  {
   "cell_type": "markdown",
   "id": "057cc749-b730-4707-84b6-6f15e33bc89f",
   "metadata": {},
   "source": [
    "Lets load the dataset"
   ]
  },
  {
   "cell_type": "code",
   "execution_count": 3,
   "id": "c5fe789e-d40b-42ef-bc7c-1cdd982ec9ea",
   "metadata": {
    "ExecuteTime": {
     "end_time": "2024-10-25T05:23:06.315076Z",
     "start_time": "2024-10-25T05:23:06.308705Z"
    }
   },
   "outputs": [],
   "source": [
    "df = pd.read_csv(\"data/Raw_Camp_Data.csv\")"
   ]
  },
  {
   "cell_type": "markdown",
   "id": "2b239586-674b-4781-b623-c38e7b693048",
   "metadata": {},
   "source": [
    "Remove unecessary rows"
   ]
  },
  {
   "cell_type": "code",
   "execution_count": 5,
   "id": "90a323a5-9c79-4a18-b6a4-37304944e40d",
   "metadata": {
    "ExecuteTime": {
     "end_time": "2024-10-25T05:23:06.317727Z",
     "start_time": "2024-10-25T05:23:06.315559Z"
    }
   },
   "outputs": [],
   "source": [
    "df = df.drop(df.index[34:])"
   ]
  },
  {
   "cell_type": "markdown",
   "id": "488ec8b3-cfda-43dd-91e5-cf54dbefa8f7",
   "metadata": {},
   "source": [
    "The column names are quite long, lets change that by mapping the orignal column name to our desired column name using a dictionary. We then use the *rename* method in pandas to change the dataframes column names."
   ]
  },
  {
   "cell_type": "code",
   "execution_count": 7,
   "id": "e3da633a-5e94-44ee-bc86-6ec97d289743",
   "metadata": {
    "ExecuteTime": {
     "end_time": "2024-10-25T05:23:06.320775Z",
     "start_time": "2024-10-25T05:23:06.318309Z"
    }
   },
   "outputs": [],
   "source": [
    "column_mapping = {\n",
    "    \"Name of Participant (First Name, Last Name)\": \"Full Name\",\n",
    "    \"Nick Name\": \"Nickname\",\n",
    "    \"Payment\": \"Payment Received\",\n",
    "    \"School Attending\": \"School\",\n",
    "    \"Main Contact e-mail address\": \"Main Contact E-Mail\",\n",
    "    \"Main Contact phone number\": \"Main Contact Number\",\n",
    "    \"Optional Second e-mail address\": \"Secondary E-Mail\",\n",
    "    \"Choose your group\": \"Age Group\",\n",
    "    \"Optional Second phone number\": \"Secondary Phone Number\",\n",
    "    \"Thank your for signing up, please add any comments you would like us to know about.\": \"Additional Comments\",\n",
    "    \"I, the parent or guardian of the player named above, acknowledge that when my child is playing/participating/performing basketball activities s/he may suffer injury. I release Top Flight Basketball Co. Ltd from any liability concerning any injury or harm suffered by my child during or as a consequence of participation in the activities.\": \"Injury Liability Waver\",\n",
    "    \"I, the parent or legal guardian of the child named above grant Top Flight basketball Co. Ltd my permission to use the photographs taken at basketball sessions for any legal use, including but not limited to: publicity, copyright purposes, illustration, advertising, and web content. Furthermore, I understand that no royalty, fee or other compensation shall become payable to me by reason of such use.\": \"Photograph Release Agreement\",\n",
    "    \"Once booking made payments can be made to the following bank account: Top Flight Basketball Company Limited - HSBC – 023-697444-838. Please send us proof of payment to INFO@TOPFLIGHTHONGKONG.COM with your child's name indicated.\": \"Payment Instruction Acknowledgement\"\n",
    "}\n",
    "\n",
    "df.rename(columns=column_mapping, inplace=True)"
   ]
  },
  {
   "cell_type": "code",
   "execution_count": 8,
   "id": "3d4b5e9a-0aa7-4b99-8877-f3a6bec652dc",
   "metadata": {
    "ExecuteTime": {
     "end_time": "2024-10-25T05:23:06.322923Z",
     "start_time": "2024-10-25T05:23:06.321400Z"
    }
   },
   "outputs": [],
   "source": [
    "# df.head()"
   ]
  },
  {
   "cell_type": "markdown",
   "id": "5febd86d-c242-4651-b221-da31e69254ac",
   "metadata": {},
   "source": [
    "Lets remove anything that would give away the identity of our customers or columns we dont need. This would include columns such as \"Email Address\", \"Nickname\", \"Main Contact Number\", \"Secondary Phone Number\", \"Main Contact E-Mail\", \"Age Group\" and  \"Secondary E-Mail\". *We will not include \"Full Name\" as we will need it for the student id.*"
   ]
  },
  {
   "cell_type": "code",
   "execution_count": 10,
   "id": "2bac05ec-541a-4c1b-b1ec-e869dc727fc4",
   "metadata": {
    "ExecuteTime": {
     "end_time": "2024-10-25T05:23:06.327615Z",
     "start_time": "2024-10-25T05:23:06.323283Z"
    }
   },
   "outputs": [
    {
     "data": {
      "text/plain": [
       "[None, None, None, None, None, None, None]"
      ]
     },
     "execution_count": 10,
     "metadata": {},
     "output_type": "execute_result"
    }
   ],
   "source": [
    "id_cols_remove = [\"Email Address\", \"Main Contact Number\", \"Main Contact E-Mail\", \"Secondary E-Mail\", \"Nickname\", \"Secondary Phone Number\", \"Age Group\"]\n",
    "[df.drop(x, axis=1, inplace=True) for x in id_cols_remove]"
   ]
  },
  {
   "cell_type": "code",
   "execution_count": 11,
   "id": "d1c98c5a-7070-438b-809a-0138e6cbc8d9",
   "metadata": {
    "ExecuteTime": {
     "end_time": "2024-10-25T05:23:06.330501Z",
     "start_time": "2024-10-25T05:23:06.329141Z"
    }
   },
   "outputs": [],
   "source": [
    "# df"
   ]
  },
  {
   "cell_type": "markdown",
   "id": "9e868cbdcf8f6f0c",
   "metadata": {},
   "source": [
    "After Skimming, I noticed some missing information. Two names are missing, lets fill them in row 32 and 33. They also attended every class, and are male. There are also four students missing information, lets add that information."
   ]
  },
  {
   "cell_type": "code",
   "execution_count": 13,
   "id": "6df64597-90d9-41e3-adf2-5b6a01ac9fd0",
   "metadata": {
    "ExecuteTime": {
     "end_time": "2024-10-25T05:23:06.334449Z",
     "start_time": "2024-10-25T05:23:06.330925Z"
    }
   },
   "outputs": [],
   "source": [
    "# Change misspelling in row 31 and Fill in Names at row 32 and 33 (Names are made up here)\n",
    "df.at[31,'Full Name'] = 'Callum Wong'\n",
    "df.at[32, 'Full Name'] = 'Anson Amande'\n",
    "df.at[33, 'Full Name'] = 'Atlas Amande'\n",
    "# Parent filled in two names, but only one of them attended\n",
    "df.at[15, 'Full Name'] = 'George Tilton'\n",
    "# Fill in Attendance at row 32 and 33 from Aug 19 - Aug 23\n",
    "df.iloc[32, 2:7] = 'TRUE'\n",
    "df.iloc[33, 2:7] = 'TRUE'\n",
    "# Fill in Gender at row 32 and 33.\n",
    "df.at[32, 'Gender'] = 'Male'\n",
    "df.at[33, 'Gender'] = 'Male'\n",
    "# Fill in missing Date of Birth for row 30:34\n",
    "df.at[30,'Date of Birth'] = '1/1/2017'\n",
    "df.at[31,'Date of Birth'] = '1/1/2017'\n",
    "df.at[32,'Date of Birth'] = '10/14/2009'\n",
    "df.at[33,'Date of Birth'] = '5/31/2008'\n",
    "# Fill in missing Ages for row 30:34\n",
    "df.at[30,'Age'] = '9'\n",
    "df.at[31,'Age'] = '14'\n",
    "df.at[32,'Age'] = '14'\n",
    "df.at[33,'Age'] = '16'\n",
    "# Fill in missing Schools\n",
    "df.at[30,'School'] = 'Unknown'\n",
    "df.at[31,'School'] = 'Canadian International School'\n",
    "df.at[32,'School'] = 'DSC'\n",
    "df.at[33,'School'] = 'DSC'\n",
    "\n",
    "# df"
   ]
  },
  {
   "cell_type": "code",
   "execution_count": 14,
   "id": "233c200c5a71702c",
   "metadata": {
    "ExecuteTime": {
     "end_time": "2024-10-25T05:23:06.336734Z",
     "start_time": "2024-10-25T05:23:06.334882Z"
    }
   },
   "outputs": [],
   "source": [
    "school_mappings = {\n",
    "    \"DSC İnternational School\": \"DSC International School\",\n",
    "    \"DSC\": \"DSC International School\",\n",
    "    \"Dsc International School\": \"DSC International School\",\n",
    "    \"ESF Island School\": \"ESF Island School\",\n",
    "    \"Esf South Island School\": \"ESF South Island School\",\n",
    "    \"South Island School\": \"ESF South Island School\",\n",
    "    \"HKIS\": \"Hong Kong International School\",\n",
    "    \"Hkis\": \"Hong Kong International School\",\n",
    "    \"IMS\": \"International Montessori School\",\n",
    "    \"Silvermine bay school\": \"Silvermine Bay School\",\n",
    "    \"French International School\": \"French International School\",\n",
    "    \"Victoria Shanghai Academy\": \"Victoria Shanghai Academy\",\n",
    "    \"Hong Kong Harrow International School\": \"Harrow International School\",\n",
    "    \"The ISF School\": \"ISF Academy\",\n",
    "    \"CDNIS\": \"Canadian International School\",\n",
    "    \"YMCA Christian Academy\": \"YMCA Christian Academy\",\n",
    "    \"Chinese International School\": \"Chinese International School\",\n",
    "    \"CIS\": \"Chinese International School\",\n",
    "    \"Kellett\": \"Kellett School\",\n",
    "    \"ESF SIS\": \"ESF South Island School\",\n",
    "    \"Harrow School\": \"Harrow International School\",\n",
    "    \"SJPS\": \"St. Joseph's Primary School\",\n",
    "    \"AISHK\": \"Australian International School\",\n",
    "    \"Australian International School\": \"Australian International School\"\n",
    "}"
   ]
  },
  {
   "cell_type": "code",
   "execution_count": 15,
   "id": "956aaa70dca40562",
   "metadata": {
    "ExecuteTime": {
     "end_time": "2024-10-25T05:23:06.339160Z",
     "start_time": "2024-10-25T05:23:06.337199Z"
    }
   },
   "outputs": [],
   "source": [
    "def standardize_school_name(school_name):\n",
    "    return school_mappings.get(school_name.strip(), school_name)\n",
    "\n",
    "df['School'] = df['School'].apply(standardize_school_name)"
   ]
  },
  {
   "cell_type": "code",
   "execution_count": 16,
   "id": "659f15d7f73ba84d",
   "metadata": {
    "ExecuteTime": {
     "end_time": "2024-10-25T05:23:06.341567Z",
     "start_time": "2024-10-25T05:23:06.339619Z"
    }
   },
   "outputs": [],
   "source": [
    "df['School'] = df['School'].apply(lambda x: ' '.join(word if word.upper() == 'ESF' else word.title() for word in x.split()))"
   ]
  },
  {
   "cell_type": "code",
   "execution_count": 17,
   "id": "3e5803c36fe2e785",
   "metadata": {
    "ExecuteTime": {
     "end_time": "2024-10-25T05:23:06.343443Z",
     "start_time": "2024-10-25T05:23:06.341996Z"
    }
   },
   "outputs": [],
   "source": [
    "# df"
   ]
  },
  {
   "cell_type": "markdown",
   "id": "31de211129477716",
   "metadata": {},
   "source": [
    "Lets create the student ID. We will use the Initials of First, Middle and Last Names followed by a hyphen (\"-\"), then the Year and Month of their date of birth (YYYYMM), and their Gender (Female = 0 and Male = 1) For example: Scott Matthew Summers 1977/09/22 Male = SMS-197709-01"
   ]
  },
  {
   "cell_type": "code",
   "execution_count": 19,
   "id": "61a0a89c5b82d392",
   "metadata": {
    "ExecuteTime": {
     "end_time": "2024-10-25T05:23:06.345860Z",
     "start_time": "2024-10-25T05:23:06.344274Z"
    }
   },
   "outputs": [],
   "source": [
    "student_id_cols = df[[\"Full Name\", \"Date of Birth\", \"Gender\"]]\n",
    "# student_id_cols"
   ]
  },
  {
   "cell_type": "markdown",
   "id": "95c7f9b34ccfa144",
   "metadata": {},
   "source": [
    "I will create a function *create_student_id* in my *utils.py* script"
   ]
  },
  {
   "cell_type": "code",
   "execution_count": 21,
   "id": "f584b3f9ce459944",
   "metadata": {
    "ExecuteTime": {
     "end_time": "2024-10-25T05:23:06.352876Z",
     "start_time": "2024-10-25T05:23:06.346221Z"
    }
   },
   "outputs": [
    {
     "name": "stderr",
     "output_type": "stream",
     "text": [
      "/var/folders/k8/54zwc4911p16cz5tw9zrk4vh0000gn/T/ipykernel_1449/2175618548.py:1: SettingWithCopyWarning: \n",
      "A value is trying to be set on a copy of a slice from a DataFrame.\n",
      "Try using .loc[row_indexer,col_indexer] = value instead\n",
      "\n",
      "See the caveats in the documentation: https://pandas.pydata.org/pandas-docs/stable/user_guide/indexing.html#returning-a-view-versus-a-copy\n",
      "  student_id_cols[\"Student ID\"] = df.apply(generate_student_id, axis=1)\n"
     ]
    }
   ],
   "source": [
    "student_id_cols[\"Student ID\"] = df.apply(generate_student_id, axis=1)"
   ]
  },
  {
   "cell_type": "code",
   "execution_count": 22,
   "id": "c4a9df3bd6c48d97",
   "metadata": {
    "ExecuteTime": {
     "end_time": "2024-10-25T05:23:06.355939Z",
     "start_time": "2024-10-25T05:23:06.353830Z"
    }
   },
   "outputs": [
    {
     "name": "stderr",
     "output_type": "stream",
     "text": [
      "/var/folders/k8/54zwc4911p16cz5tw9zrk4vh0000gn/T/ipykernel_1449/486631525.py:1: SettingWithCopyWarning: \n",
      "A value is trying to be set on a copy of a slice from a DataFrame\n",
      "\n",
      "See the caveats in the documentation: https://pandas.pydata.org/pandas-docs/stable/user_guide/indexing.html#returning-a-view-versus-a-copy\n",
      "  student_id_cols.drop([\"Full Name\"], axis=1, inplace=True)\n"
     ]
    }
   ],
   "source": [
    "student_id_cols.drop([\"Full Name\"], axis=1, inplace=True)"
   ]
  },
  {
   "cell_type": "code",
   "execution_count": 23,
   "id": "697e2be6d4f4293d",
   "metadata": {
    "ExecuteTime": {
     "end_time": "2024-10-25T05:23:06.361112Z",
     "start_time": "2024-10-25T05:23:06.356382Z"
    }
   },
   "outputs": [
    {
     "data": {
      "text/html": [
       "<div>\n",
       "<style scoped>\n",
       "    .dataframe tbody tr th:only-of-type {\n",
       "        vertical-align: middle;\n",
       "    }\n",
       "\n",
       "    .dataframe tbody tr th {\n",
       "        vertical-align: top;\n",
       "    }\n",
       "\n",
       "    .dataframe thead th {\n",
       "        text-align: right;\n",
       "    }\n",
       "</style>\n",
       "<table border=\"1\" class=\"dataframe\">\n",
       "  <thead>\n",
       "    <tr style=\"text-align: right;\">\n",
       "      <th></th>\n",
       "      <th>Date of Birth</th>\n",
       "      <th>Gender</th>\n",
       "      <th>Student ID</th>\n",
       "    </tr>\n",
       "  </thead>\n",
       "  <tbody>\n",
       "    <tr>\n",
       "      <th>0</th>\n",
       "      <td>12/22/2011</td>\n",
       "      <td>Female</td>\n",
       "      <td>DK-201112-0</td>\n",
       "    </tr>\n",
       "    <tr>\n",
       "      <th>1</th>\n",
       "      <td>4/26/2012</td>\n",
       "      <td>Male</td>\n",
       "      <td>DC-201204-1</td>\n",
       "    </tr>\n",
       "    <tr>\n",
       "      <th>2</th>\n",
       "      <td>9/12/2012</td>\n",
       "      <td>Male</td>\n",
       "      <td>JC-201209-1</td>\n",
       "    </tr>\n",
       "    <tr>\n",
       "      <th>3</th>\n",
       "      <td>4/10/2012</td>\n",
       "      <td>Male</td>\n",
       "      <td>EC-201204-1</td>\n",
       "    </tr>\n",
       "    <tr>\n",
       "      <th>4</th>\n",
       "      <td>10/27/2014</td>\n",
       "      <td>Male</td>\n",
       "      <td>EC-201410-1</td>\n",
       "    </tr>\n",
       "  </tbody>\n",
       "</table>\n",
       "</div>"
      ],
      "text/plain": [
       "  Date of Birth  Gender   Student ID\n",
       "0    12/22/2011  Female  DK-201112-0\n",
       "1     4/26/2012    Male  DC-201204-1\n",
       "2     9/12/2012    Male  JC-201209-1\n",
       "3     4/10/2012    Male  EC-201204-1\n",
       "4    10/27/2014    Male  EC-201410-1"
      ]
     },
     "execution_count": 23,
     "metadata": {},
     "output_type": "execute_result"
    }
   ],
   "source": [
    "student_id_cols.head()"
   ]
  },
  {
   "cell_type": "code",
   "execution_count": 24,
   "id": "d68512f777d42088",
   "metadata": {
    "ExecuteTime": {
     "end_time": "2024-10-25T05:23:06.363152Z",
     "start_time": "2024-10-25T05:23:06.361627Z"
    }
   },
   "outputs": [],
   "source": [
    "df[\"Student ID\"] = student_id_cols[\"Student ID\"]\n",
    "# df"
   ]
  },
  {
   "cell_type": "markdown",
   "id": "5bdde57e3d838845",
   "metadata": {},
   "source": [
    "We want Student ID in the 2nd column, lets change that"
   ]
  },
  {
   "cell_type": "code",
   "execution_count": 26,
   "id": "ec1702cd4964107",
   "metadata": {
    "ExecuteTime": {
     "end_time": "2024-10-25T05:23:06.366124Z",
     "start_time": "2024-10-25T05:23:06.364141Z"
    }
   },
   "outputs": [],
   "source": [
    "cols = list(df.columns)\n",
    "cols.insert(1, cols.pop(cols.index('Student ID')))\n",
    "df = df[cols]"
   ]
  },
  {
   "cell_type": "markdown",
   "id": "1167e652e783884c",
   "metadata": {},
   "source": [
    "Now lets remove the Full Name column as we do not need it anymore"
   ]
  },
  {
   "cell_type": "code",
   "execution_count": 28,
   "id": "5945322e6b4fd934",
   "metadata": {
    "ExecuteTime": {
     "end_time": "2024-10-25T05:23:06.368729Z",
     "start_time": "2024-10-25T05:23:06.366692Z"
    }
   },
   "outputs": [],
   "source": [
    "df.drop(\"Full Name\",axis=1, inplace=True)\n",
    "df.drop(\"Additional Comments\", axis=1, inplace=True)"
   ]
  },
  {
   "cell_type": "code",
   "execution_count": 29,
   "id": "823d378fac038ec8",
   "metadata": {
    "ExecuteTime": {
     "end_time": "2024-10-25T05:23:06.373430Z",
     "start_time": "2024-10-25T05:23:06.369354Z"
    }
   },
   "outputs": [],
   "source": [
    "df.to_csv('data/Anonymized_Data.csv', encoding=\"utf-8\", index=False)"
   ]
  }
 ],
 "metadata": {
  "kernelspec": {
   "display_name": "Python 3 (ipykernel)",
   "language": "python",
   "name": "python3"
  },
  "language_info": {
   "codemirror_mode": {
    "name": "ipython",
    "version": 3
   },
   "file_extension": ".py",
   "mimetype": "text/x-python",
   "name": "python",
   "nbconvert_exporter": "python",
   "pygments_lexer": "ipython3",
   "version": "3.12.4"
  }
 },
 "nbformat": 4,
 "nbformat_minor": 5
}
