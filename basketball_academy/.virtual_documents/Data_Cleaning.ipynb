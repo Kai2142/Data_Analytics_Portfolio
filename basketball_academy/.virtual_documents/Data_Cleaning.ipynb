


import pandas as pd


df = pd.read_csv("data/Anonymized_Data.csv")


df.head()








# DNA = Did Not Attend
DNA = df[(df[['Aug 19', 'Aug 20', 'Aug 21', 'Aug 22', 'Aug 23']] == False).all(axis=1)]

# Extract the names of the participants meeting the condition
dna_id = DNA['Student ID']
print(dna_id)





df = df[~df['Student ID'].isin(dna_id)]





# The basketball camp started on 8/19/2024 18:00:00, so we will fill the null values with this
df.isnull().sum()


df





# Students that did not fill in the Google form were filled in manually on 2024-08-19 18:00:00. 
df['Timestamp'].fillna(pd.Timestamp('2024-08-19 18:00:00'), inplace=True)

# Payment Received
df['Payment Received'].fillna(0, inplace=True)

# Jersey Sizes
df['Jersey Sizes'].fillna(0, inplace=True) # Jerseys with the value of 0 means the jersey sizes for that student were not collected

# Payment Date
df['Payment Date'].fillna(pd.to_datetime('Aug 24 2024', format='%b %d %Y'), inplace=True)


df.isnull().sum()


df





df.info()





# Convert Timestamp column to datetime
df['Timestamp'] = pd.to_datetime(df['Timestamp'], format='%m/%d/%Y %H:%M:%S')

# Convert Payment Received to integer
df['Payment Received'] = df['Payment Received'].astype(str).str.replace('[$,]', '', regex=True).astype(float).astype(int)

# Convert jersey sizes to integer
df['Jersey Sizes'] = df['Jersey Sizes'].astype(int)

# Convert Payment Date to date time
df['Payment Date'] = pd.to_datetime(df['Payment Date'].astype(str) + ' 2024', format='%b %d %Y', errors='coerce')

# Fill null values with 'Aug 24, 2024'
default_date = pd.to_datetime('Aug 24 2024', format='%b %d %Y')
df['Payment Date'].fillna(default_date, inplace=True)





















