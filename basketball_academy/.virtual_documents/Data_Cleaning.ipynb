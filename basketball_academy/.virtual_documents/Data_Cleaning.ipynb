


import pandas as pd


df = pd.read_csv("data/Anonymized_Data.csv")


df.head()








# DNA = Did Not Attend
DNA = df[(df[['Aug 19', 'Aug 20', 'Aug 21', 'Aug 22', 'Aug 23']] == False).all(axis=1)]

# Extract the names of the participants meeting the condition
dna_id = DNA['Student ID']
print(dna_id)





df = df[~df['Student ID'].isin(dna_id)]





# The basketball camp started on 8/19/2024 18:00:00, so we will fill the null values with this
df.isnull().sum()


df





# Students that did not fill in the Google form were filled in manually on 2024-08-19 18:00:00. 
df['Timestamp'].fillna(pd.Timestamp('2024-08-19 18:00:00'), inplace=True)

# Payment Received
df['Payment Received'].fillna(0, inplace=True)

# Jersey Sizes
df['Jersey Sizes'].fillna(0, inplace=True) # Jerseys with the value of 0 means the jersey sizes for that student were not collected

# Payment Date
df['Payment Date'].fillna('Aug 24', inplace=True)

# Date of birth
current_year = pd.Timestamp.now().year
# df['Date of Birth'] = pd.to_datetime(current_year - df['Age'], format='%Y')


df.isnull().sum()


df





df.info()





# Convert Timestamp column to datetime
df['Timestamp'] = pd.to_datetime(df['Timestamp'], format='%m/%d/%Y %H:%M:%S')

# Convert Payment Received to integer
df['Payment Received'] = df['Payment Received'].astype(str).str.replace('[$,]', '', regex=True).astype(float).astype(int)

# Convert jersey sizes to integer
df['Jersey Sizes'] = df['Jersey Sizes'].astype(int)

# Convert Payment Date to date time
# df['Payment Date'] = pd.to_datetime(df['Payment Date'].astype(str) + ' 2024', format='%b %d %Y', errors='coerce')
df['Payment Date'] = pd.to_datetime(df['Payment Date'].str.replace('July', 'Jul') + ' 2024', format='%b %d %Y', errors='coerce')

# Convert Age into Integer
df['Age'] = df['Age'].astype(int)

# Convert Date of birth to datetime
df['Date of Birth'] = pd.to_datetime(df['Date of Birth'], format='%m/%d/%Y')




df.info()








df












