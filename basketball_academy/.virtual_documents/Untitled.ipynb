import pandas as pd


df = pd.read_csv('data/TC_Aug1923_2024')
