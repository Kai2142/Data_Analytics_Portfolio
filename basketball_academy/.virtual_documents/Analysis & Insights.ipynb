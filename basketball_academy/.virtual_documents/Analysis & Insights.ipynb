import pandas as pd
import matplotlib.pyplot as plt
import seaborn as sns





df = pd.read_csv('data/Cleaned_Data.csv')


df.head()








unique_ages = df['Age'].unique()
plt.hist(df['Age'], bins=(len(unique_ages)), color='skyblue', edgecolor='black')
plt.xlabel('Age')
plt.ylabel('Frequency')
plt.title('Age Distribution')





gender_counts = df['Gender'].value_counts()
plt.figure(figsize=(4, 4))
# Plotting the pie chart using matplotlib
plt.pie(gender_counts, labels=gender_counts.index, autopct='%1.1f%%', startangle=90, colors=['skyblue', 'red'])
plt.title('Gender Distribution')





# df['School'].value_counts()
plt.figure(figsize=(12, 6))
sns.countplot(y='School', data=df, palette='viridis')
plt.xlabel('Count')
plt.ylabel('School')
plt.title('School Counts')
plt.tight_layout()
plt.show()





# Extract just the date part from the timestamps
df['Timestamp'] = pd.to_datetime(df['Timestamp'])
dates = df['Timestamp'].dt.date

# Count the occurrences of each date
date_counts = dates.value_counts().sort_index()

# Plotting the counts of timestamps per day
plt.figure(figsize=(12, 6))
plt.plot(date_counts.index, date_counts.values, marker='o')
plt.xlabel('Date')
plt.ylabel('Count')
plt.title('Timestamp Counts by Day')
plt.xticks(rotation=45)
plt.grid()
plt.tight_layout()
plt.show()









