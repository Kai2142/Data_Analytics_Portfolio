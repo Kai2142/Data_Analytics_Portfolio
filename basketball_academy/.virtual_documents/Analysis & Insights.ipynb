


# pip install --upgrade geopandas fiona pandas matplotlib seaborn geopandas contextily
import pandas as pd
import numpy as np
import matplotlib.pyplot as plt
import seaborn as sns
import geopandas as gpd
import contextily as ctx 
import fiona





df = pd.read_csv('data/merged_df.csv')


# df








# Get unqiue ages and sort by frequency
age_counts = df['Age'].value_counts()
# Sort the ages for better visualization
age_counts = age_counts.sort_index()

# Plotting the bar chart
plt.figure(figsize=(12, 6))
plt.bar(age_counts.index, age_counts.values, color='skyblue', edgecolor='black')
plt.xlabel('Age')
plt.ylabel('Frequency')
plt.title('Age Distribution')
plt.xticks(age_counts.index)
plt.grid(axis='y', linestyle='--', alpha=0.7)

plt.show()





# Observations
age_dist_min = df['Age'].min()
age_dist_max = df['Age'].max()
age_dist_mean = df['Age'].mean()
age_dist_median = df['Age'].median()

print(f'The youngest student at the camp was {age_dist_min}')
print(f'The oldest student at the camp was {age_dist_max}')
print(f'The mean age at the camp was {age_dist_mean:.2f}')
print(f'The median age at the camp was {age_dist_median:.2f}')


gender_counts = df['Gender'].value_counts()
plt.figure(figsize=(4, 4))
# Plotting the pie chart using matplotlib
plt.pie(gender_counts, labels=gender_counts.index, autopct='%1.1f%%', startangle=90, colors=['skyblue', 'red'])
plt.title('Gender Distribution')





plt.figure(figsize=(12, 6))
sns.countplot(y='School', data=df, palette='viridis')
plt.xlabel('Count')
plt.ylabel('School')
plt.title('School Counts')
plt.tight_layout()
plt.show()





# Calculate the total payment received and the total number of students
total_payment = df["Payment Received"].sum()
total_students = len(df)

# Calculate the average payment per student
if total_students > 0:
    avg_payment_per_student = total_payment / total_students
else:
    avg_payment_per_student = 0

print(f"The average payment per student is: ${avg_payment_per_student:.2f}")





esf_count = df['School'].str.upper().str.count('ESF').sum()
non_esf_count = sum(df['School'].apply(lambda x: 'ESF' not in x.upper()))
plt.barh(['ESF Schools', 'Non-ESF Schools'], [esf_count, non_esf_count], color=['red', 'blue'])
plt.xlabel('Count')
plt.ylabel('School Organization')
plt.title('Count of ESF and Non-ESF Schools')
plt.show()





# Define old data frame
old_df = pd.read_csv('data/Anonymized_Data.csv')
new_df = pd.read_csv ('data/Cleaned_Data.csv')

# We will take the amount of students who dropped out and divide it by the number of students 
dropped_out = len(old_df['Student ID']) - len(new_df['Student ID'])
cust_churn = (dropped_out / len(old_df['Student ID']) * 100)
print(f'Customer Turnout for the Camp was {cust_churn:.3g}%')





# attendance_columns = df.columns[2:7]

# # Calculate total attendance count for each date
# attendance_counts = df[attendance_columns].sum()

# # Plot the attendance counts on a line graph
# plt.figure(figsize=(10, 6))
# plt.plot(attendance_counts.index, attendance_counts.values, marker='o', color='b', linestyle='-', linewidth=2, markersize=8)
# plt.xlabel('Date')
# plt.ylabel('Attendance Count')
# plt.title('Attendance Count by Date')
# plt.grid(True)
# plt.xticks(rotation=45)
# plt.tight_layout()
# plt.show()

attendance_columns = df.columns[2:7]

# Calculate total attendance count for each date
attendance_counts = df[attendance_columns].sum()

# Plot the attendance counts on a line graph
plt.figure(figsize=(10, 6))
plt.plot(attendance_counts.index, attendance_counts.values, marker='o', color='b', linestyle='-', linewidth=2, markersize=8)
plt.xlabel('Date')
plt.ylabel('Attendance Count')
plt.title('Attendance Count by Date')
plt.grid(True)
plt.xticks(rotation=45)
plt.tight_layout()

# Set y-axis limit to start from 0
max_value = max(attendance_counts.values)
plt.ylim(0, max_value + 5)  # Adjust the upper limit for better visualization
plt.show()





# Extract just the date part from the timestamps
df['Timestamp'] = pd.to_datetime(df['Timestamp'])
dates = df['Timestamp'].dt.date

# Count the occurrences of each date
date_counts = dates.value_counts().sort_index()

# Plotting the counts of timestamps per day
plt.figure(figsize=(12, 6))
plt.plot(date_counts.index, date_counts.values, marker='o')
plt.xlabel('Date')
plt.ylabel('Count')
plt.title('Timestamp Counts by Day')
plt.xticks(rotation=45)
plt.grid()
plt.tight_layout()
plt.show()





df = pd.read_csv('data/merged_df.csv')

selected_columns = ['Gender', 'School', 'Jersey Sizes', 'School Geographic Region', 'Aug 19', 'Aug 20', 'Aug 21', 'Aug 22', 'Aug 23', 'Returning Customer', 'Elite Team Status', 'Weekend Academy Status', 'Age', 'Jersey Sizes', 'Payment Received']

# Filter the DataFrame to include only the selected columns
df_filtered = df[selected_columns]

# Perform one-hot encoding for categorical columns
categorical_columns = ['Gender', 'School', 'School Geographic Region']
df_encoded = pd.get_dummies(df_filtered, columns=categorical_columns)

# Calculate the correlation matrix
correlation_matrix = df_encoded.corr()

plt.figure(figsize=(24, 16))
sns.heatmap(correlation_matrix, annot=True, cmap='coolwarm', fmt=".2f")
plt.title('Correlation Heatmap')
plt.show()





# Total Conversion Rate
total_weekend_students = df['Weekend Academy Status'].sum()
total_students = len(df['Weekend Academy Status'])
# Conversion Rate for those Eligible for our weekend Academy (Ages 6-12)
filtered_df_weekend = df[(df['Age'] >= 6) & (df['Age'] <= 12)]
len_ages = len(filtered_df_weekend)
conversion_rate = (total_weekend_students / len_ages ) * 100
print(f'Weekend Academy Conversion Rate: {conversion_rate:.2f}%')





# Total Conversion Rate
total_elite_students = df['Elite Team Status'].sum()
# Conversion Rate for those Eligible for our weekend Academy (Ages 6-12)
filtered_df = df[(df['Age'] >= 10) & (df['Age'] <= 18)]
len_ages = len(filtered_df)
conversion_rate = (total_elite_students / len_ages ) * 100
print(f'Elite Team Conversion Rate: {conversion_rate:.2f}%')





total_returning_customers = df['Returning Customer'].sum()
cust_return_rate = (total_returning_customers / total_students ) * 100
print(f'Returning Customer Conversion Rate: {cust_return_rate:.2f}%')   








# Check Shapefile districts
hk_districts = gpd.read_file('data/HK_District/HKDistrict18.shp')
unique_shapefile_districts = hk_districts['ENAME'].unique()
print("\nUnique District Names in Shapefile:")
print(unique_shapefile_districts)

# Check CSV Districts 
unique_school_districts = df['School Geographic Region'].unique()
print("Unique District Names in School Data:")
print(unique_school_districts)





district_map_dict = {
    "Islands District" : "ISLANDS",
    "Southern District" : "SOUTHERN",
    "Eastern District" : "EASTERN",
    "Kowloon City District" : "KOWLOON CITY",
    "Tuen Mun District": "TUEN MUN",
    "Wan Chai District": "WANCHAI",
    "Unknown": "UNKNOWN",
    "Central District": "CENTRAL & WESTERN",
}

df['School Geographic Region'] = df['School Geographic Region'].map(district_map_dict)
unique_school_districts = df['School Geographic Region'].unique()
print(unique_school_districts)



# Calculate the value counts of each district in the 'School Geographic Region' column
district_counts = df['School Geographic Region'].value_counts()

# Merge the datasets
merged = hk_districts.merge(df, how='left', left_on='ENAME', right_on='School Geographic Region')

# Filter out "Unknown" values
merged_filtered = merged[merged['School Geographic Region'] != 'Unknown']

# Adjust the colormap for better visibility and differentiation
fig, ax = plt.subplots(figsize=(12, 12))

# Choose a colormap that emphasizes differences
merged_filtered.plot(column='School Geographic Region', cmap='YlOrRd', linewidth=0.8, edgecolor='0.8', legend=True, ax=ax)

# Add annotations for district counts
for idx, row in merged_filtered.iterrows():
    district_name = row['School Geographic Region']
    count = district_counts.get(district_name, 0)
    plt.annotate(text=f'{count}', xy=(row.geometry.centroid.x, row.geometry.centroid.y), color='black', fontsize=10, ha='center')

# Add a basemap using OpenStreetMap
ctx.add_basemap(ax, crs=merged_filtered.crs, source=ctx.providers.OpenStreetMap.Mapnik)

plt.title('School Geographic Region Map (Excluding "Unknown")')
plt.axis('off')
plt.show()
