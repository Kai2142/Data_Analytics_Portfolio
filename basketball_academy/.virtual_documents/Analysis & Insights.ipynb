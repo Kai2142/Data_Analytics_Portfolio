import pandas as pd
import matplotlib.pyplot as plt
import seaborn as sns





df = pd.read_csv('data/Cleaned_Data.csv')


df.head()








unique_ages = df['Age'].unique()
plt.hist(df['Age'], bins=(len(unique_ages)), color='skyblue', edgecolor='black')
plt.xlabel('Age')
plt.ylabel('Frequency')
plt.title('Age Distribution')





gender_counts = df['Gender'].value_counts()
plt.figure(figsize=(4, 4))
# Plotting the pie chart using matplotlib
plt.pie(gender_counts, labels=gender_counts.index, autopct='%1.1f%%', startangle=90, colors=['skyblue', 'red'])
plt.title('Gender Distribution')





plt.figure(figsize=(12, 6))
sns.countplot(y='School', data=df, palette='viridis')
plt.xlabel('Count')
plt.ylabel('School')
plt.title('School Counts')
plt.tight_layout()
plt.show()





# Extract just the date part from the timestamps
df['Timestamp'] = pd.to_datetime(df['Timestamp'])
dates = df['Timestamp'].dt.date

# Count the occurrences of each date
date_counts = dates.value_counts().sort_index()

# Plotting the counts of timestamps per day
plt.figure(figsize=(12, 6))
plt.plot(date_counts.index, date_counts.values, marker='o')
plt.xlabel('Date')
plt.ylabel('Count')
plt.title('Timestamp Counts by Day')
plt.xticks(rotation=45)
plt.grid()
plt.tight_layout()
plt.show()








old_df = pd.read_csv('/Users/kaiisfly/PycharmProjects/Data_Analytics_Portfolio/basketball_academy/data/Anonymized_Data.csv')
new_df = pd.read_csv ('/Users/kaiisfly/PycharmProjects/Data_Analytics_Portfolio/basketball_academy/data/Cleaned_Data.csv')

dropped_out = len(old_df['Student ID']) - len(new_df['Student ID'])
cust_churn = (dropped_out / len(old_df['Student ID']) * 100)
print(f'Customer Churn for the Camp was {cust_churn:.3g}%')





attendance_columns = df.columns[2:7]

# Calculate total attendance count for each date
attendance_counts = df[attendance_columns].sum()

# Plot the attendance counts on a line graph
plt.figure(figsize=(10, 6))
plt.plot(attendance_counts.index, attendance_counts.values, marker='o', color='b', linestyle='-', linewidth=2, markersize=8)
plt.xlabel('Date')
plt.ylabel('Attendance Count')
plt.title('Attendance Count by Date')
plt.grid(True)
plt.xticks(rotation=45)
plt.tight_layout()
plt.show()





# Select columns for correlation analysis
cols_for_correlation = ['Aug 19', 'Aug 20', 'Aug 21', 'Aug 22', 'Aug 23', 'Payment Received', 'Jersey Sizes', 'Age']

# Encode boolean columns
df[cols_for_correlation] = df[cols_for_correlation].replace({True: 1, False: 0})

# Compute the correlation matrix
correlation_matrix = df[cols_for_correlation].corr()

# Plot the correlation heatmap
plt.figure(figsize=(12, 8))
sns.heatmap(correlation_matrix, annot=True, cmap='coolwarm', fmt=".2f")
plt.title('Correlation Heatmap')
plt.show()
