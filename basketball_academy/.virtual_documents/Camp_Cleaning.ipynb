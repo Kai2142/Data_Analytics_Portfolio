import pandas as pd





# df = pd.read_csv("TrainingCamp_Aug19-23_2024.csv")
df = pd.read_csv("TC_Aug1923_2024.csv")





df.head()


df.drop("Email Address", axis=1, inplace=True)


df








df.rename(columns={"Name of Participant (First Name, Last Name)": "Full Name","Nick Name": "Nickname", "Payment": "Payment Received", "School Attending":"School", "Main Contact e-mail address": "Main Contact E-Mail", "Main Contact phone number": "Main Contact Number", "Optional Second e-mail address": "Secondary E-Mail", "Choose your group": "Age Group", "Optional Second phone number": "Secondary Phone Number", "Thank your for signing up, please add any comments you would like us to know about.": "Additional Comments", "I, the parent or guardian of the player named above, acknowledge that when my child is playing/participating/performing basketball activities s/he may suffer injury. I release Top Flight Basketball Co. Ltd from any liability concerning any injury or harm suffered by my child during or as a consequence of participation in the activities.": "Injury Liability Waver", "I, the parent or legal guardian of the child named above grant Top Flight basketball Co. Ltd my permission to use the photographs taken at basketball sessions for any legal use, including but not limited to: publicity, copyright purposes, illustration, advertising, and web content. Furthermore, I understand that no royalty, fee or other compensation shall become payable to me by reason of such use.": "Photograph Release Agreement", "Once booking made payments can be made to the following bank account: Top Flight Basketball Company Limited - HSBC – 023-697444-838. Please send us proof of payment to INFO@TOPFLIGHTHONGKONG.COM with your child\'s name indicated.": "Payment Instruction Acknowledgement"}, inplace=True)


df





df.drop(columns = ["Nickname", "Main Contact E-Mail", "Main Contact Number", "Secondary E-Mail", "Secondary Phone Number", "Additional Comments"] )





df.at[32, 'Full Name'] = 'Andrew Atayde'
df.at[33, 'Full Name'] = 'Anthony Atayde'
df.iloc[32, 3:8] = 'TRUE'
df.iloc[33, 3:8] = 'TRUE'



df





df = df.drop(df.index[34:])


df





# DNA = Did Not Attend
DNA = df[(df[['Aug 19', 'Aug 20', 'Aug 21', 'Aug 22', 'Aug 23']] == "FALSE").all(axis=1)]

# Extract the names of the participants meeting the condition
names = DNA['Full Name']
print(names)








df.isnull().sum()





df["Timestamp"].fillna("8/19/2024 18:00:00", inplace=True)





df





df.dtypes
