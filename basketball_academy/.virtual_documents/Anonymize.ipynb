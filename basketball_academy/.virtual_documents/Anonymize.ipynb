import pandas as pd
from utils import generate_student_id


df = pd.read_csv("data/TC_Aug1923_2024.csv")





column_mapping = {
    "Name of Participant (First Name, Last Name)": "Full Name",
    "Nick Name": "Nickname",
    "Payment": "Payment Received",
    "School Attending": "School",
    "Main Contact e-mail address": "Main Contact E-Mail",
    "Main Contact phone number": "Main Contact Number",
    "Optional Second e-mail address": "Secondary E-Mail",
    "Choose your group": "Age Group",
    "Optional Second phone number": "Secondary Phone Number",
    "Thank your for signing up, please add any comments you would like us to know about.": "Additional Comments",
    "I, the parent or guardian of the player named above, acknowledge that when my child is playing/participating/performing basketball activities s/he may suffer injury. I release Top Flight Basketball Co. Ltd from any liability concerning any injury or harm suffered by my child during or as a consequence of participation in the activities.": "Injury Liability Waver",
    "I, the parent or legal guardian of the child named above grant Top Flight basketball Co. Ltd my permission to use the photographs taken at basketball sessions for any legal use, including but not limited to: publicity, copyright purposes, illustration, advertising, and web content. Furthermore, I understand that no royalty, fee or other compensation shall become payable to me by reason of such use.": "Photograph Release Agreement",
    "Once booking made payments can be made to the following bank account: Top Flight Basketball Company Limited - HSBC – 023-697444-838. Please send us proof of payment to INFO@TOPFLIGHTHONGKONG.COM with your child's name indicated.": "Payment Instruction Acknowledgement"
}

df.rename(columns=column_mapping, inplace=True)


df.head()





id_cols_remove = ["Email Address", "Main Contact Number", "Main Contact E-Mail", "Secondary E-Mail", "Nickname", "Secondary Phone Number", "Age Group"]
[df.drop(x, axis=1, inplace=True) for x in id_cols_remove]


df





# Change misspelling in row 31 and Fill in Names at row 32 and 33
df.at[31,'Full Name'] = 'Caleb Wan'
df.at[32, 'Full Name'] = 'Andrew Atayde'
df.at[33, 'Full Name'] = 'Anthony Atayde'
# Fill in Attendance at row 32 and 33 from Aug 19 - Aug 23
df.iloc[32, 2:7] = 'TRUE'
df.iloc[33, 2:7] = 'TRUE'
# Fill in Gender at row 32 and 33.
df.at[32, 'Gender'] = 'Male'
df.at[33, 'Gender'] = 'Male'
# Fill in missing Date of Birth for row 30:34
df.at[30,'Date of Birth'] = '1/1/2017'
df.at[31,'Date of Birth'] = '1/1/2017'
df.at[32,'Date of Birth'] = '10/14/2009'
df.at[33,'Date of Birth'] = '5/31/2008'
# Fill in missing Ages for row 30:34
df.at[30,'Age'] = '9'
df.at[31,'Age'] = '14'
df.at[32,'Age'] = '14'
df.at[33,'Age'] = '16'
# Fill in missing Schools
df.at[30,'School'] = 'Unknown'
df.at[31,'School'] = 'Canadian International School'
df.at[31,'School'] = 'DSC'
df.at[32,'School'] = 'DSC'



school_mappings = {
    "DSC İnternational School": "DSC International School",
    "DSC": "DSC International School",
    "ESF Island School": "ESF Island School",
    "South Island School": "South Island School",
    "HKIS": "Hong Kong International School",
    "Hkis": "Hong Kong International School",
    "IMS": "International Montessori School",
    "Silvermine bay school": "Silvermine Bay School",
    "French International School": "French International School",
    "Victoria Shanghai Academy": "Victoria Shanghai Academy",
    "Hong Kong Harrow International School": "Harrow International School",
    "The ISF School": "ISF Academy",
    "CDNIS": "Canadian International School",
    "YMCA Christian Academy": "YMCA Christian Academy",
    "Chinese International School": "Chinese International School",
    "CIS": "Chinese International School",
    "Kellett": "Kellett School",
    "ESF SIS": "ESF South Island School",
    "Harrow School": "Harrow International School",
    "SJPS": "St. Joseph's Primary School",
    "AISHK": "Australian International School",
    "Australian International School": "Australian International School"
}


def standardize_school_name(school_name):
    return school_mappings.get(school_name, school_name)

# Standardize school names in the DataFrame
df['School'] = df['School'].apply(standardize_school_name)


df





df = df.drop(df.index[34:])





student_id_cols = df[["Full Name", "Date of Birth", "Gender"]]
student_id_cols





student_id_cols["Student ID"] = df.apply(generate_student_id, axis=1)


student_id_cols.drop(["Full Name"], axis=1, inplace=True)


student_id_cols


df["Student ID"] = student_id_cols["Student ID"]
df





cols = list(df.columns)
cols.insert(1, cols.pop(cols.index('Student ID')))
df = df[cols]





df.drop("Full Name",axis=1, inplace=True)
df.drop("Additional Comments", axis=1, inplace=True)


df.to_csv('data/Anonymized_Data.csv', encoding="utf-8", index=False)
