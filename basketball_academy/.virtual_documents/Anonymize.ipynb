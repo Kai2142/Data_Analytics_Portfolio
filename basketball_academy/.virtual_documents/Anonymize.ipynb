





import pandas as pd





df = pd.read_csv("data/TC_Aug1923_2024.csv")


df








# DNA = Did Not Attend
DNA = df[(df[['Aug 19', 'Aug 20', 'Aug 21', 'Aug 22', 'Aug 23']] == "FALSE").all(axis=1)]

# Extract the names of the participants meeting the condition
names = DNA['Name of Participant (First Name, Last Name)']
names = names.to_list()
names
df = df[~df['Name of Participant (First Name, Last Name)'].isin(names)]





df.at[32, 'Full Name'] = 'Andrew Atayde'
df.at[33, 'Full Name'] = 'Anthony Atayde'
df.iloc[32, 3:8] = 'TRUE'
df.iloc[33, 3:8] = 'TRUE'


df = df[["Name of Participant (First Name, Last Name)", "Date of Birth", "Gender"]]


df








# Apply the replacement directly within a lambda function, handling NaN values
df['Standardized Name'] = df['Name of Participant (First Name, Last Name)'].apply(lambda x: x.replace('/Theo Tilton', '').replace(',', '') if isinstance(x, str) else x)


df


df.drop(columns=['Name of Participant (First Name, Last Name)'], inplace=True)


df


df = df = df.drop(df.index[31:])






