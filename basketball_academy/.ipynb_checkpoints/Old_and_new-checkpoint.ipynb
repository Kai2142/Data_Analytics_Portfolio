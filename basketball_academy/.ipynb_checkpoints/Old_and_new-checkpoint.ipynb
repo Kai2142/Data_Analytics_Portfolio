{
 "cells": [
  {
   "cell_type": "code",
   "id": "4f330d3f-45b5-4bff-ab20-4e60de110ea1",
   "metadata": {
    "ExecuteTime": {
     "end_time": "2024-09-24T13:36:48.054569Z",
     "start_time": "2024-09-24T13:36:48.051879Z"
    }
   },
   "source": [
    "import pandas as pd"
   ],
   "outputs": [],
   "execution_count": 29
  },
  {
   "metadata": {},
   "cell_type": "markdown",
   "source": "Load Original ",
   "id": "f3e39cd3a1cc2d26"
  },
  {
   "cell_type": "code",
   "id": "3abac28e-ff4c-41a4-b29b-0df457d1b3e1",
   "metadata": {
    "ExecuteTime": {
     "end_time": "2024-09-24T13:36:48.060034Z",
     "start_time": "2024-09-24T13:36:48.055666Z"
    }
   },
   "source": [
    "old_df = pd.read_csv('/Users/kaiisfly/PycharmProjects/Data_Analytics_Portfolio/basketball_academy/data/Anonymized_Data.csv')\n",
    "new_df = pd.read_csv ('/Users/kaiisfly/PycharmProjects/Data_Analytics_Portfolio/basketball_academy/data/Cleaned_Data.csv' )"
   ],
   "outputs": [],
   "execution_count": 30
  },
  {
   "metadata": {},
   "cell_type": "markdown",
   "source": "Display DF head",
   "id": "e03a08399469faf2"
  },
  {
   "metadata": {
    "ExecuteTime": {
     "end_time": "2024-09-24T13:45:48.493077Z",
     "start_time": "2024-09-24T13:45:48.488512Z"
    }
   },
   "cell_type": "code",
   "source": [
    "dropped_out = len(old_df['Student ID']) - len(new_df['Student ID'])\n",
    "\n",
    "cust_churn = (dropped_out / len(old_df['Student ID']) * 100)\n",
    "print(f'{cust_churn:.3g}%')"
   ],
   "id": "dd8366257ca95d72",
   "outputs": [
    {
     "name": "stdout",
     "output_type": "stream",
     "text": [
      "8.82%\n"
     ]
    }
   ],
   "execution_count": 46
  },
  {
   "metadata": {
    "ExecuteTime": {
     "end_time": "2024-10-21T12:32:38.259701Z",
     "start_time": "2024-10-21T12:32:38.258549Z"
    }
   },
   "cell_type": "code",
   "source": "",
   "id": "42916dd94b2573e9",
   "outputs": [],
   "execution_count": null
  }
 ],
 "metadata": {
  "kernelspec": {
   "display_name": "Python 3 (ipykernel)",
   "language": "python",
   "name": "python3"
  },
  "language_info": {
   "codemirror_mode": {
    "name": "ipython",
    "version": 3
   },
   "file_extension": ".py",
   "mimetype": "text/x-python",
   "name": "python",
   "nbconvert_exporter": "python",
   "pygments_lexer": "ipython3",
   "version": "3.12.4"
  }
 },
 "nbformat": 4,
 "nbformat_minor": 5
}
